{
 "cells": [
  {
   "cell_type": "code",
   "execution_count": 1,
   "id": "a96da4ea",
   "metadata": {},
   "outputs": [],
   "source": [
    "from pathlib import Path\n",
    "from concurrent.futures import ThreadPoolExecutor\n",
    "\n",
    "import geopandas as gpd\n",
    "from tqdm import tqdm\n",
    "\n",
    "from get_stack import get_stack"
   ]
  },
  {
   "cell_type": "code",
   "execution_count": 2,
   "id": "67b59fb1",
   "metadata": {},
   "outputs": [],
   "source": [
    "zarrs = [int(path.stem) for path in Path(\"data/chips\").glob(\"*.zarr\")]\n",
    "missing_ids = set(range(0, 4303)) - set(zarrs)"
   ]
  },
  {
   "cell_type": "code",
   "execution_count": 3,
   "id": "b92744e3",
   "metadata": {},
   "outputs": [],
   "source": [
    "# Load the GeoDataFrame\n",
    "samples = gpd.read_parquet(\"data/samples.parquet\").query(\"sample_id in @missing_ids\")"
   ]
  },
  {
   "cell_type": "code",
   "execution_count": 10,
   "id": "41b9db7b",
   "metadata": {},
   "outputs": [],
   "source": [
    "# Create an iterable of rows (or use samples.iterrows() if needed)\n",
    "sample_list = [sample for _, sample in samples.iterrows()][1:]"
   ]
  },
  {
   "cell_type": "code",
   "execution_count": 11,
   "id": "c94b209d",
   "metadata": {},
   "outputs": [
    {
     "name": "stderr",
     "output_type": "stream",
     "text": [
      " 36%|███▋      | 24/66 [1:26:21<1:49:50, 156.92s/it]Ignoring read failure while reading: https://sentinel-cogs.s3.us-west-2.amazonaws.com/sentinel-s2-l2a-cogs/32/U/NV/2018/9/S2B_32UNV_20180924_1_L2A/B06.tif:1\n",
      "Ignoring read failure while reading: https://sentinel-cogs.s3.us-west-2.amazonaws.com/sentinel-s2-l2a-cogs/32/U/NV/2018/9/S2B_32UNV_20180924_1_L2A/B06.tif:1\n",
      "100%|██████████| 66/66 [2:35:18<00:00, 141.19s/it]  \n"
     ]
    }
   ],
   "source": [
    "# Number of workers (adjust based on your system)\n",
    "num_workers = 16  # or use os.cpu_count()\n",
    "\n",
    "with ThreadPoolExecutor(max_workers=num_workers) as executor:\n",
    "    results = list(tqdm(executor.map(get_stack, sample_list), total=len(sample_list)))"
   ]
  }
 ],
 "metadata": {
  "kernelspec": {
   "display_name": "disturbance-agent-data (3.12.10)",
   "language": "python",
   "name": "python3"
  },
  "language_info": {
   "codemirror_mode": {
    "name": "ipython",
    "version": 3
   },
   "file_extension": ".py",
   "mimetype": "text/x-python",
   "name": "python",
   "nbconvert_exporter": "python",
   "pygments_lexer": "ipython3",
   "version": "3.12.10"
  }
 },
 "nbformat": 4,
 "nbformat_minor": 5
}
