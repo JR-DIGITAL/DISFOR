{
 "cells": [
  {
   "cell_type": "code",
   "execution_count": 1,
   "id": "b09fe62e",
   "metadata": {},
   "outputs": [],
   "source": [
    "# get row-col of point.\n",
    "import polars as pl\n",
    "from rasterio import CRS\n",
    "from pyproj import Transformer\n",
    "import geopandas as gpd\n",
    "import xarray as xr\n",
    "from tqdm import tqdm"
   ]
  },
  {
   "cell_type": "code",
   "execution_count": null,
   "id": "810f0302",
   "metadata": {},
   "outputs": [],
   "source": [
    "samples = gpd.read_parquet(\"../samples.parquet\")"
   ]
  },
  {
   "cell_type": "code",
   "execution_count": null,
   "id": "b54a10b7",
   "metadata": {},
   "outputs": [],
   "source": [
    "desired_band_order = [\n",
    "    \"B02\",\n",
    "    \"B03\",\n",
    "    \"B04\",\n",
    "    \"B05\",\n",
    "    \"B06\",\n",
    "    \"B07\",\n",
    "    \"B08\",\n",
    "    \"B8A\",\n",
    "    \"B11\",\n",
    "    \"B12\",\n",
    "    \"SCL\",\n",
    "]\n",
    "\n",
    "\n",
    "def get_pixel_data(sample):\n",
    "    ds = xr.open_zarr(\n",
    "        f\"../chips/{sample['sample_id']}.zarr\",\n",
    "        decode_coords=\"all\",\n",
    "        mask_and_scale=False,\n",
    "        chunks=None,\n",
    "        use_zarr_fill_value_as_mask=False,\n",
    "    )\n",
    "    ds[desired_band_order].drop_duplicates(\"time\")\n",
    "    epsg = CRS.from_wkt(ds.spatial_ref.crs_wkt).to_epsg()\n",
    "    ds = ds.drop_vars(\"spatial_ref\")\n",
    "    ds = ds.rio.write_crs(epsg)\n",
    "    valid_scl = [4, 5, 6]\n",
    "    ds[\"clear\"] = ds[\"SCL\"].isin(valid_scl)\n",
    "    transformer = Transformer.from_crs(\"EPSG:4326\", epsg, always_xy=True)\n",
    "    # we get the row/col based on the actual point and geotransform. The point will always be\n",
    "    # at 16x16 (0 indexed) of the chip.\n",
    "    xx, yy = transformer.transform(sample[\"geometry\"].x, sample[\"geometry\"].y)\n",
    "    # Get the index along each dimension\n",
    "    ix = ds.indexes[\"x\"].get_indexer([xx], method=\"nearest\")[0]\n",
    "    iy = ds.indexes[\"y\"].get_indexer([yy], method=\"nearest\")[0]\n",
    "    pixel_ts = ds.isel(x=ix, y=iy)\n",
    "\n",
    "    # compute proportion of clear pixels in different chunk sizes\n",
    "    clear_4x4 = (\n",
    "        ds[\"clear\"]\n",
    "        .isel(x=slice(ix - 2, ix + 2), y=slice(iy - 2, iy + 2))\n",
    "        .mean([\"x\", \"y\"])\n",
    "        .values\n",
    "    )\n",
    "    clear_8x8 = (\n",
    "        ds[\"clear\"]\n",
    "        .isel(x=slice(ix - 4, ix + 4), y=slice(iy - 4, iy + 4))\n",
    "        .mean([\"x\", \"y\"])\n",
    "        .values\n",
    "    )\n",
    "    clear_16x16 = (\n",
    "        ds[\"clear\"]\n",
    "        .isel(x=slice(ix - 8, ix + 8), y=slice(iy - 8, iy + 8))\n",
    "        .mean([\"x\", \"y\"])\n",
    "        .values\n",
    "    )\n",
    "    clear_32x32 = (\n",
    "        ds[\"clear\"]\n",
    "        .isel(x=slice(ix - 16, ix + 16), y=slice(iy - 16, iy + 16))\n",
    "        .mean([\"x\", \"y\"])\n",
    "        .values\n",
    "    )\n",
    "    df = (\n",
    "        pl.from_pandas(pixel_ts.to_pandas().reset_index())\n",
    "        .drop(\"y\", \"x\", \"spatial_ref\")\n",
    "        .with_columns(\n",
    "            percent_clear_4x4=clear_4x4,\n",
    "            percent_clear_8x8=clear_8x8,\n",
    "            percent_clear_16x16=clear_16x16,\n",
    "            percent_clear_32x32=clear_32x32,\n",
    "            sample_id=pl.lit(sample[\"sample_id\"]),\n",
    "        )\n",
    "        .rename({\"time\": \"timestamps\"})\n",
    "    )\n",
    "    return df"
   ]
  },
  {
   "cell_type": "code",
   "execution_count": 219,
   "id": "2d3d550f",
   "metadata": {},
   "outputs": [
    {
     "name": "stderr",
     "output_type": "stream",
     "text": [
      "31it [00:05,  5.31it/s]c:\\Users\\Jonas.Viehweger\\Documents\\Projects\\2025\\disturbance-agent-data\\.venv\\Lib\\site-packages\\numpy\\_core\\_methods.py:136: RuntimeWarning: invalid value encountered in divide\n",
      "  ret = um.true_divide(\n",
      "32it [00:05,  5.29it/s]c:\\Users\\Jonas.Viehweger\\Documents\\Projects\\2025\\disturbance-agent-data\\.venv\\Lib\\site-packages\\numpy\\_core\\_methods.py:136: RuntimeWarning: invalid value encountered in divide\n",
      "  ret = um.true_divide(\n",
      "c:\\Users\\Jonas.Viehweger\\Documents\\Projects\\2025\\disturbance-agent-data\\.venv\\Lib\\site-packages\\numpy\\_core\\_methods.py:136: RuntimeWarning: invalid value encountered in divide\n",
      "  ret = um.true_divide(\n",
      "c:\\Users\\Jonas.Viehweger\\Documents\\Projects\\2025\\disturbance-agent-data\\.venv\\Lib\\site-packages\\numpy\\_core\\_methods.py:136: RuntimeWarning: invalid value encountered in divide\n",
      "  ret = um.true_divide(\n",
      "34it [00:06,  5.28it/s]c:\\Users\\Jonas.Viehweger\\Documents\\Projects\\2025\\disturbance-agent-data\\.venv\\Lib\\site-packages\\numpy\\_core\\_methods.py:136: RuntimeWarning: invalid value encountered in divide\n",
      "  ret = um.true_divide(\n",
      "515it [01:23,  7.71it/s]c:\\Users\\Jonas.Viehweger\\Documents\\Projects\\2025\\disturbance-agent-data\\.venv\\Lib\\site-packages\\numpy\\_core\\_methods.py:136: RuntimeWarning: invalid value encountered in divide\n",
      "  ret = um.true_divide(\n",
      "c:\\Users\\Jonas.Viehweger\\Documents\\Projects\\2025\\disturbance-agent-data\\.venv\\Lib\\site-packages\\numpy\\_core\\_methods.py:136: RuntimeWarning: invalid value encountered in divide\n",
      "  ret = um.true_divide(\n",
      "517it [01:23,  9.74it/s]c:\\Users\\Jonas.Viehweger\\Documents\\Projects\\2025\\disturbance-agent-data\\.venv\\Lib\\site-packages\\numpy\\_core\\_methods.py:136: RuntimeWarning: invalid value encountered in divide\n",
      "  ret = um.true_divide(\n",
      "c:\\Users\\Jonas.Viehweger\\Documents\\Projects\\2025\\disturbance-agent-data\\.venv\\Lib\\site-packages\\numpy\\_core\\_methods.py:136: RuntimeWarning: invalid value encountered in divide\n",
      "  ret = um.true_divide(\n",
      "c:\\Users\\Jonas.Viehweger\\Documents\\Projects\\2025\\disturbance-agent-data\\.venv\\Lib\\site-packages\\numpy\\_core\\_methods.py:136: RuntimeWarning: invalid value encountered in divide\n",
      "  ret = um.true_divide(\n",
      "c:\\Users\\Jonas.Viehweger\\Documents\\Projects\\2025\\disturbance-agent-data\\.venv\\Lib\\site-packages\\numpy\\_core\\_methods.py:136: RuntimeWarning: invalid value encountered in divide\n",
      "  ret = um.true_divide(\n",
      "c:\\Users\\Jonas.Viehweger\\Documents\\Projects\\2025\\disturbance-agent-data\\.venv\\Lib\\site-packages\\numpy\\_core\\_methods.py:136: RuntimeWarning: invalid value encountered in divide\n",
      "  ret = um.true_divide(\n",
      "519it [01:23, 10.29it/s]c:\\Users\\Jonas.Viehweger\\Documents\\Projects\\2025\\disturbance-agent-data\\.venv\\Lib\\site-packages\\numpy\\_core\\_methods.py:136: RuntimeWarning: invalid value encountered in divide\n",
      "  ret = um.true_divide(\n",
      "c:\\Users\\Jonas.Viehweger\\Documents\\Projects\\2025\\disturbance-agent-data\\.venv\\Lib\\site-packages\\numpy\\_core\\_methods.py:136: RuntimeWarning: invalid value encountered in divide\n",
      "  ret = um.true_divide(\n",
      "c:\\Users\\Jonas.Viehweger\\Documents\\Projects\\2025\\disturbance-agent-data\\.venv\\Lib\\site-packages\\numpy\\_core\\_methods.py:136: RuntimeWarning: invalid value encountered in divide\n",
      "  ret = um.true_divide(\n",
      "c:\\Users\\Jonas.Viehweger\\Documents\\Projects\\2025\\disturbance-agent-data\\.venv\\Lib\\site-packages\\numpy\\_core\\_methods.py:136: RuntimeWarning: invalid value encountered in divide\n",
      "  ret = um.true_divide(\n",
      "c:\\Users\\Jonas.Viehweger\\Documents\\Projects\\2025\\disturbance-agent-data\\.venv\\Lib\\site-packages\\numpy\\_core\\_methods.py:136: RuntimeWarning: invalid value encountered in divide\n",
      "  ret = um.true_divide(\n",
      "1917it [14:26,  1.05it/s]c:\\Users\\Jonas.Viehweger\\Documents\\Projects\\2025\\disturbance-agent-data\\.venv\\Lib\\site-packages\\numpy\\_core\\_methods.py:136: RuntimeWarning: invalid value encountered in divide\n",
      "  ret = um.true_divide(\n",
      "c:\\Users\\Jonas.Viehweger\\Documents\\Projects\\2025\\disturbance-agent-data\\.venv\\Lib\\site-packages\\numpy\\_core\\_methods.py:136: RuntimeWarning: invalid value encountered in divide\n",
      "  ret = um.true_divide(\n",
      "2274it [18:50,  1.64it/s]c:\\Users\\Jonas.Viehweger\\Documents\\Projects\\2025\\disturbance-agent-data\\.venv\\Lib\\site-packages\\numpy\\_core\\_methods.py:136: RuntimeWarning: invalid value encountered in divide\n",
      "  ret = um.true_divide(\n",
      "2840it [26:33,  2.02it/s]c:\\Users\\Jonas.Viehweger\\Documents\\Projects\\2025\\disturbance-agent-data\\.venv\\Lib\\site-packages\\numpy\\_core\\_methods.py:136: RuntimeWarning: invalid value encountered in divide\n",
      "  ret = um.true_divide(\n",
      "3258it [31:57,  1.01it/s]c:\\Users\\Jonas.Viehweger\\Documents\\Projects\\2025\\disturbance-agent-data\\.venv\\Lib\\site-packages\\numpy\\_core\\_methods.py:136: RuntimeWarning: invalid value encountered in divide\n",
      "  ret = um.true_divide(\n",
      "3892it [38:21,  1.69it/s]\n"
     ]
    }
   ],
   "source": [
    "pixel_data_dfs = [get_pixel_data(sample) for _, sample in tqdm(samples.iterrows())]"
   ]
  },
  {
   "cell_type": "code",
   "execution_count": 243,
   "id": "dcfeb32a",
   "metadata": {},
   "outputs": [],
   "source": [
    "full_df = (\n",
    "    pl.concat(pixel_data_dfs, how=\"diagonal_relaxed\")\n",
    "    .fill_nan(0)\n",
    "    .with_columns(\n",
    "        pl.col.timestamps.dt.date(),\n",
    "        pl.col.SCL.cast(pl.UInt8),\n",
    "        (pl.selectors.starts_with(\"percent_clear\") * 100).cast(pl.UInt8),\n",
    "    )\n",
    "    .sort([\"sample_id\", \"timestamps\"])\n",
    ")"
   ]
  },
  {
   "cell_type": "code",
   "execution_count": 244,
   "id": "ce4ce4ef",
   "metadata": {},
   "outputs": [],
   "source": [
    "full_df.write_parquet(\"../pixel_data.parquet\")"
   ]
  },
  {
   "cell_type": "code",
   "execution_count": 4,
   "id": "67fdba58",
   "metadata": {},
   "outputs": [
    {
     "data": {
      "text/html": [
       "<div><style>\n",
       ".dataframe > thead > tr,\n",
       ".dataframe > tbody > tr {\n",
       "  text-align: right;\n",
       "  white-space: pre-wrap;\n",
       "}\n",
       "</style>\n",
       "<small>shape: (2_982_770, 14)</small><table border=\"1\" class=\"dataframe\"><thead><tr><th>timestamps</th><th>B02</th><th>B03</th><th>B07</th><th>B06</th><th>B04</th><th>B05</th><th>B08</th><th>B11</th><th>SCL</th><th>B12</th><th>B8A</th><th>clear</th><th>sample_id</th></tr><tr><td>date</td><td>u16</td><td>u16</td><td>u16</td><td>u16</td><td>u16</td><td>u16</td><td>u16</td><td>u16</td><td>u8</td><td>u16</td><td>u16</td><td>bool</td><td>i32</td></tr></thead><tbody><tr><td>2019-01-04</td><td>4604</td><td>4300</td><td>4721</td><td>4580</td><td>3806</td><td>4160</td><td>4808</td><td>1999</td><td>9</td><td>2051</td><td>4633</td><td>false</td><td>0</td></tr><tr><td>2019-01-09</td><td>181</td><td>451</td><td>4138</td><td>3232</td><td>251</td><td>918</td><td>4100</td><td>1411</td><td>4</td><td>583</td><td>4509</td><td>true</td><td>0</td></tr><tr><td>2019-01-14</td><td>210</td><td>425</td><td>3668</td><td>2881</td><td>221</td><td>840</td><td>3550</td><td>1335</td><td>4</td><td>567</td><td>3964</td><td>true</td><td>0</td></tr><tr><td>2019-01-24</td><td>1262</td><td>1372</td><td>3962</td><td>3318</td><td>1116</td><td>1699</td><td>3930</td><td>2044</td><td>8</td><td>1340</td><td>4223</td><td>false</td><td>0</td></tr><tr><td>2019-01-29</td><td>3472</td><td>3334</td><td>4660</td><td>4454</td><td>3016</td><td>3617</td><td>4888</td><td>3105</td><td>9</td><td>2557</td><td>4765</td><td>false</td><td>0</td></tr><tr><td>&hellip;</td><td>&hellip;</td><td>&hellip;</td><td>&hellip;</td><td>&hellip;</td><td>&hellip;</td><td>&hellip;</td><td>&hellip;</td><td>&hellip;</td><td>&hellip;</td><td>&hellip;</td><td>&hellip;</td><td>&hellip;</td><td>&hellip;</td></tr><tr><td>2024-11-04</td><td>6864</td><td>6416</td><td>6453</td><td>6606</td><td>6424</td><td>6580</td><td>6876</td><td>4742</td><td>9</td><td>3562</td><td>6452</td><td>false</td><td>4302</td></tr><tr><td>2024-11-29</td><td>3552</td><td>3052</td><td>3494</td><td>3541</td><td>3136</td><td>3555</td><td>3184</td><td>2813</td><td>9</td><td>2738</td><td>3560</td><td>false</td><td>4302</td></tr><tr><td>2024-12-04</td><td>954</td><td>847</td><td>1791</td><td>1636</td><td>939</td><td>1224</td><td>2342</td><td>1162</td><td>10</td><td>831</td><td>2232</td><td>false</td><td>4302</td></tr><tr><td>2024-12-16</td><td>4036</td><td>2998</td><td>2530</td><td>2587</td><td>2244</td><td>2661</td><td>4660</td><td>1288</td><td>8</td><td>590</td><td>2598</td><td>false</td><td>4302</td></tr><tr><td>2024-12-21</td><td>1302</td><td>987</td><td>1926</td><td>1926</td><td>944</td><td>1395</td><td>1918</td><td>969</td><td>5</td><td>529</td><td>2247</td><td>true</td><td>4302</td></tr></tbody></table></div>"
      ],
      "text/plain": [
       "shape: (2_982_770, 14)\n",
       "┌────────────┬──────┬──────┬──────┬───┬──────┬──────┬───────┬───────────┐\n",
       "│ timestamps ┆ B02  ┆ B03  ┆ B07  ┆ … ┆ B12  ┆ B8A  ┆ clear ┆ sample_id │\n",
       "│ ---        ┆ ---  ┆ ---  ┆ ---  ┆   ┆ ---  ┆ ---  ┆ ---   ┆ ---       │\n",
       "│ date       ┆ u16  ┆ u16  ┆ u16  ┆   ┆ u16  ┆ u16  ┆ bool  ┆ i32       │\n",
       "╞════════════╪══════╪══════╪══════╪═══╪══════╪══════╪═══════╪═══════════╡\n",
       "│ 2019-01-04 ┆ 4604 ┆ 4300 ┆ 4721 ┆ … ┆ 2051 ┆ 4633 ┆ false ┆ 0         │\n",
       "│ 2019-01-09 ┆ 181  ┆ 451  ┆ 4138 ┆ … ┆ 583  ┆ 4509 ┆ true  ┆ 0         │\n",
       "│ 2019-01-14 ┆ 210  ┆ 425  ┆ 3668 ┆ … ┆ 567  ┆ 3964 ┆ true  ┆ 0         │\n",
       "│ 2019-01-24 ┆ 1262 ┆ 1372 ┆ 3962 ┆ … ┆ 1340 ┆ 4223 ┆ false ┆ 0         │\n",
       "│ 2019-01-29 ┆ 3472 ┆ 3334 ┆ 4660 ┆ … ┆ 2557 ┆ 4765 ┆ false ┆ 0         │\n",
       "│ …          ┆ …    ┆ …    ┆ …    ┆ … ┆ …    ┆ …    ┆ …     ┆ …         │\n",
       "│ 2024-11-04 ┆ 6864 ┆ 6416 ┆ 6453 ┆ … ┆ 3562 ┆ 6452 ┆ false ┆ 4302      │\n",
       "│ 2024-11-29 ┆ 3552 ┆ 3052 ┆ 3494 ┆ … ┆ 2738 ┆ 3560 ┆ false ┆ 4302      │\n",
       "│ 2024-12-04 ┆ 954  ┆ 847  ┆ 1791 ┆ … ┆ 831  ┆ 2232 ┆ false ┆ 4302      │\n",
       "│ 2024-12-16 ┆ 4036 ┆ 2998 ┆ 2530 ┆ … ┆ 590  ┆ 2598 ┆ false ┆ 4302      │\n",
       "│ 2024-12-21 ┆ 1302 ┆ 987  ┆ 1926 ┆ … ┆ 529  ┆ 2247 ┆ true  ┆ 4302      │\n",
       "└────────────┴──────┴──────┴──────┴───┴──────┴──────┴───────┴───────────┘"
      ]
     },
     "execution_count": 4,
     "metadata": {},
     "output_type": "execute_result"
    }
   ],
   "source": [
    "pixel_data = pl.read_parquet(\"../pixel_data.parquet\").drop(\n",
    "    pl.selectors.starts_with(\"percent_clear\"), \"label\"\n",
    ")\n",
    "pixel_data"
   ]
  },
  {
   "cell_type": "code",
   "execution_count": 6,
   "id": "73e345d7",
   "metadata": {},
   "outputs": [
    {
     "name": "stderr",
     "output_type": "stream",
     "text": [
      "C:\\Users\\Jonas.Viehweger\\AppData\\Local\\Temp\\ipykernel_7368\\2195218817.py:6: UserWarning: Sortedness of columns cannot be checked when 'by' groups provided\n",
      "  added_labels = pixel_data.join_asof(labels_df, by=\"sample_id\", on=\"timestamps\")\n"
     ]
    }
   ],
   "source": [
    "labels_df = pl.read_parquet(\"../labels.parquet\").select(\n",
    "    pl.col.sample_id.cast(pl.Int32),\n",
    "    pl.col.label.cast(pl.UInt16),\n",
    "    timestamps=pl.col.start.dt.date(),\n",
    ")\n",
    "added_labels = pixel_data.join_asof(labels_df, by=\"sample_id\", on=\"timestamps\")"
   ]
  },
  {
   "cell_type": "code",
   "execution_count": 7,
   "id": "cd500a23",
   "metadata": {},
   "outputs": [
    {
     "data": {
      "text/html": [
       "<div><style>\n",
       ".dataframe > thead > tr,\n",
       ".dataframe > tbody > tr {\n",
       "  text-align: right;\n",
       "  white-space: pre-wrap;\n",
       "}\n",
       "</style>\n",
       "<small>shape: (2_982_770, 15)</small><table border=\"1\" class=\"dataframe\"><thead><tr><th>timestamps</th><th>B02</th><th>B03</th><th>B07</th><th>B06</th><th>B04</th><th>B05</th><th>B08</th><th>B11</th><th>SCL</th><th>B12</th><th>B8A</th><th>clear</th><th>sample_id</th><th>label</th></tr><tr><td>date</td><td>u16</td><td>u16</td><td>u16</td><td>u16</td><td>u16</td><td>u16</td><td>u16</td><td>u16</td><td>u8</td><td>u16</td><td>u16</td><td>bool</td><td>i32</td><td>u16</td></tr></thead><tbody><tr><td>2019-01-04</td><td>4604</td><td>4300</td><td>4721</td><td>4580</td><td>3806</td><td>4160</td><td>4808</td><td>1999</td><td>9</td><td>2051</td><td>4633</td><td>false</td><td>0</td><td>null</td></tr><tr><td>2019-01-09</td><td>181</td><td>451</td><td>4138</td><td>3232</td><td>251</td><td>918</td><td>4100</td><td>1411</td><td>4</td><td>583</td><td>4509</td><td>true</td><td>0</td><td>null</td></tr><tr><td>2019-01-14</td><td>210</td><td>425</td><td>3668</td><td>2881</td><td>221</td><td>840</td><td>3550</td><td>1335</td><td>4</td><td>567</td><td>3964</td><td>true</td><td>0</td><td>null</td></tr><tr><td>2019-01-24</td><td>1262</td><td>1372</td><td>3962</td><td>3318</td><td>1116</td><td>1699</td><td>3930</td><td>2044</td><td>8</td><td>1340</td><td>4223</td><td>false</td><td>0</td><td>null</td></tr><tr><td>2019-01-29</td><td>3472</td><td>3334</td><td>4660</td><td>4454</td><td>3016</td><td>3617</td><td>4888</td><td>3105</td><td>9</td><td>2557</td><td>4765</td><td>false</td><td>0</td><td>null</td></tr><tr><td>&hellip;</td><td>&hellip;</td><td>&hellip;</td><td>&hellip;</td><td>&hellip;</td><td>&hellip;</td><td>&hellip;</td><td>&hellip;</td><td>&hellip;</td><td>&hellip;</td><td>&hellip;</td><td>&hellip;</td><td>&hellip;</td><td>&hellip;</td><td>&hellip;</td></tr><tr><td>2024-11-04</td><td>6864</td><td>6416</td><td>6453</td><td>6606</td><td>6424</td><td>6580</td><td>6876</td><td>4742</td><td>9</td><td>3562</td><td>6452</td><td>false</td><td>4302</td><td>222</td></tr><tr><td>2024-11-29</td><td>3552</td><td>3052</td><td>3494</td><td>3541</td><td>3136</td><td>3555</td><td>3184</td><td>2813</td><td>9</td><td>2738</td><td>3560</td><td>false</td><td>4302</td><td>222</td></tr><tr><td>2024-12-04</td><td>954</td><td>847</td><td>1791</td><td>1636</td><td>939</td><td>1224</td><td>2342</td><td>1162</td><td>10</td><td>831</td><td>2232</td><td>false</td><td>4302</td><td>222</td></tr><tr><td>2024-12-16</td><td>4036</td><td>2998</td><td>2530</td><td>2587</td><td>2244</td><td>2661</td><td>4660</td><td>1288</td><td>8</td><td>590</td><td>2598</td><td>false</td><td>4302</td><td>222</td></tr><tr><td>2024-12-21</td><td>1302</td><td>987</td><td>1926</td><td>1926</td><td>944</td><td>1395</td><td>1918</td><td>969</td><td>5</td><td>529</td><td>2247</td><td>true</td><td>4302</td><td>222</td></tr></tbody></table></div>"
      ],
      "text/plain": [
       "shape: (2_982_770, 15)\n",
       "┌────────────┬──────┬──────┬──────┬───┬──────┬───────┬───────────┬───────┐\n",
       "│ timestamps ┆ B02  ┆ B03  ┆ B07  ┆ … ┆ B8A  ┆ clear ┆ sample_id ┆ label │\n",
       "│ ---        ┆ ---  ┆ ---  ┆ ---  ┆   ┆ ---  ┆ ---   ┆ ---       ┆ ---   │\n",
       "│ date       ┆ u16  ┆ u16  ┆ u16  ┆   ┆ u16  ┆ bool  ┆ i32       ┆ u16   │\n",
       "╞════════════╪══════╪══════╪══════╪═══╪══════╪═══════╪═══════════╪═══════╡\n",
       "│ 2019-01-04 ┆ 4604 ┆ 4300 ┆ 4721 ┆ … ┆ 4633 ┆ false ┆ 0         ┆ null  │\n",
       "│ 2019-01-09 ┆ 181  ┆ 451  ┆ 4138 ┆ … ┆ 4509 ┆ true  ┆ 0         ┆ null  │\n",
       "│ 2019-01-14 ┆ 210  ┆ 425  ┆ 3668 ┆ … ┆ 3964 ┆ true  ┆ 0         ┆ null  │\n",
       "│ 2019-01-24 ┆ 1262 ┆ 1372 ┆ 3962 ┆ … ┆ 4223 ┆ false ┆ 0         ┆ null  │\n",
       "│ 2019-01-29 ┆ 3472 ┆ 3334 ┆ 4660 ┆ … ┆ 4765 ┆ false ┆ 0         ┆ null  │\n",
       "│ …          ┆ …    ┆ …    ┆ …    ┆ … ┆ …    ┆ …     ┆ …         ┆ …     │\n",
       "│ 2024-11-04 ┆ 6864 ┆ 6416 ┆ 6453 ┆ … ┆ 6452 ┆ false ┆ 4302      ┆ 222   │\n",
       "│ 2024-11-29 ┆ 3552 ┆ 3052 ┆ 3494 ┆ … ┆ 3560 ┆ false ┆ 4302      ┆ 222   │\n",
       "│ 2024-12-04 ┆ 954  ┆ 847  ┆ 1791 ┆ … ┆ 2232 ┆ false ┆ 4302      ┆ 222   │\n",
       "│ 2024-12-16 ┆ 4036 ┆ 2998 ┆ 2530 ┆ … ┆ 2598 ┆ false ┆ 4302      ┆ 222   │\n",
       "│ 2024-12-21 ┆ 1302 ┆ 987  ┆ 1926 ┆ … ┆ 2247 ┆ true  ┆ 4302      ┆ 222   │\n",
       "└────────────┴──────┴──────┴──────┴───┴──────┴───────┴───────────┴───────┘"
      ]
     },
     "execution_count": 7,
     "metadata": {},
     "output_type": "execute_result"
    }
   ],
   "source": [
    "added_labels"
   ]
  },
  {
   "cell_type": "code",
   "execution_count": 8,
   "id": "b2327e7c",
   "metadata": {},
   "outputs": [],
   "source": [
    "added_labels.write_parquet(\"../pixel_data.parquet\")"
   ]
  }
 ],
 "metadata": {
  "kernelspec": {
   "display_name": "disturbance-agent-data (3.12.10)",
   "language": "python",
   "name": "python3"
  },
  "language_info": {
   "codemirror_mode": {
    "name": "ipython",
    "version": 3
   },
   "file_extension": ".py",
   "mimetype": "text/x-python",
   "name": "python",
   "nbconvert_exporter": "python",
   "pygments_lexer": "ipython3",
   "version": "3.12.10"
  }
 },
 "nbformat": 4,
 "nbformat_minor": 5
}
