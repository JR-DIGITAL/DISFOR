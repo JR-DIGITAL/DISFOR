{
 "cells": [
  {
   "cell_type": "code",
   "execution_count": 1,
   "metadata": {},
   "outputs": [],
   "source": [
    "import pickle\n",
    "import json\n",
    "from dataclasses import dataclass\n",
    "\n",
    "import polars as pl\n",
    "import numpy as np\n",
    "from sklearn.preprocessing import LabelEncoder"
   ]
  },
  {
   "cell_type": "code",
   "execution_count": 3,
   "metadata": {},
   "outputs": [],
   "source": [
    "# Define a dataclass to hold the data\n",
    "@dataclass\n",
    "class TrainTest:\n",
    "    feature_columns: list[str]\n",
    "    label_encoder: LabelEncoder\n",
    "    X: np.ndarray\n",
    "    y: np.ndarray\n",
    "    groups: np.ndarray\n",
    "    X_test: np.ndarray\n",
    "    y_test: np.ndarray\n",
    "    groups_test: np.ndarray"
   ]
  },
  {
   "cell_type": "code",
   "execution_count": 4,
   "metadata": {},
   "outputs": [
    {
     "data": {
      "text/plain": [
       "{100: 'Alive Vegetation',\n",
       " 110: 'Mature Forest',\n",
       " 120: 'Revegetation',\n",
       " 121: 'With Trees (after clear cut)',\n",
       " 122: 'Canopy closing (after thinning/defoliation)',\n",
       " 123: 'Without Trees (shrubs and grasses, no reforestation visible)',\n",
       " 200: 'Disturbed',\n",
       " 210: 'Planned',\n",
       " 211: 'Clear Cut',\n",
       " 212: 'Thinning',\n",
       " 213: 'Forestry Mulching (Non Forest Vegetation Removal)',\n",
       " 220: 'Salvage',\n",
       " 221: 'After Biotic Disturbance',\n",
       " 222: 'After Abiotic Disturbance',\n",
       " 230: 'Biotic',\n",
       " 231: 'Bark Beetle (with decline)',\n",
       " 232: 'Gypsy Moth (temporary)',\n",
       " 240: 'Abiotic',\n",
       " 241: 'Drought',\n",
       " 242: 'Wildfire',\n",
       " 244: 'Wind',\n",
       " 245: 'Avalanche',\n",
       " 246: 'Flood'}"
      ]
     },
     "execution_count": 4,
     "metadata": {},
     "output_type": "execute_result"
    }
   ],
   "source": [
    "# load class mapping\n",
    "with open(\"data/classes.json\", \"r\") as f:\n",
    "    # Convert keys to integers for consistency\n",
    "    class_mapping = {int(k): v for k, v in json.load(f).items()}\n",
    "class_mapping"
   ]
  },
  {
   "cell_type": "code",
   "execution_count": 5,
   "metadata": {},
   "outputs": [],
   "source": [
    "# target_classes = [110, 211, 221, 222]\n",
    "target_classes = [110, 211, 221, 222, 231, 242, 244]\n",
    "# combining salvage clear cut / -> salvage\n",
    "class_mapping[221] = \"Clear Cut\"\n",
    "class_mapping[222] = \"Clear Cut\""
   ]
  },
  {
   "cell_type": "code",
   "execution_count": 6,
   "metadata": {},
   "outputs": [
    {
     "data": {
      "text/html": [
       "<div><style>\n",
       ".dataframe > thead > tr,\n",
       ".dataframe > tbody > tr {\n",
       "  text-align: right;\n",
       "  white-space: pre-wrap;\n",
       "}\n",
       "</style>\n",
       "<small>shape: (481_489, 15)</small><table border=\"1\" class=\"dataframe\"><thead><tr><th>B02</th><th>B03</th><th>B04</th><th>B05</th><th>B06</th><th>B07</th><th>B08</th><th>B8A</th><th>B11</th><th>B12</th><th>SCL</th><th>labels</th><th>sample_id</th><th>timestamps</th><th>duration_since_last_flag</th></tr><tr><td>u16</td><td>u16</td><td>u16</td><td>u16</td><td>u16</td><td>u16</td><td>u16</td><td>u16</td><td>u16</td><td>u16</td><td>u16</td><td>str</td><td>u16</td><td>date</td><td>duration[ms]</td></tr></thead><tbody><tr><td>245</td><td>516</td><td>561</td><td>1288</td><td>3198</td><td>3903</td><td>3964</td><td>4265</td><td>2567</td><td>1417</td><td>4</td><td>&quot;Mature Forest&quot;</td><td>2</td><td>2019-05-09</td><td>120d</td></tr><tr><td>353</td><td>628</td><td>648</td><td>1290</td><td>3239</td><td>4129</td><td>4476</td><td>4570</td><td>2475</td><td>1414</td><td>4</td><td>&quot;Mature Forest&quot;</td><td>2</td><td>2019-05-14</td><td>125d</td></tr><tr><td>275</td><td>546</td><td>664</td><td>1259</td><td>3265</td><td>3996</td><td>4312</td><td>4411</td><td>2556</td><td>1405</td><td>4</td><td>&quot;Mature Forest&quot;</td><td>2</td><td>2019-05-19</td><td>130d</td></tr><tr><td>231</td><td>557</td><td>571</td><td>1346</td><td>3666</td><td>4559</td><td>4736</td><td>5049</td><td>2622</td><td>1397</td><td>4</td><td>&quot;Mature Forest&quot;</td><td>2</td><td>2019-05-29</td><td>140d</td></tr><tr><td>424</td><td>670</td><td>795</td><td>1334</td><td>3314</td><td>4338</td><td>4464</td><td>4732</td><td>2648</td><td>1523</td><td>4</td><td>&quot;Mature Forest&quot;</td><td>2</td><td>2019-06-13</td><td>155d</td></tr><tr><td>&hellip;</td><td>&hellip;</td><td>&hellip;</td><td>&hellip;</td><td>&hellip;</td><td>&hellip;</td><td>&hellip;</td><td>&hellip;</td><td>&hellip;</td><td>&hellip;</td><td>&hellip;</td><td>&hellip;</td><td>&hellip;</td><td>&hellip;</td><td>&hellip;</td></tr><tr><td>161</td><td>348</td><td>272</td><td>648</td><td>1929</td><td>2370</td><td>2602</td><td>2631</td><td>1433</td><td>625</td><td>4</td><td>&quot;Wind&quot;</td><td>4302</td><td>2023-09-08</td><td>22d</td></tr><tr><td>214</td><td>318</td><td>286</td><td>703</td><td>1758</td><td>2180</td><td>2491</td><td>2508</td><td>1471</td><td>733</td><td>4</td><td>&quot;Wind&quot;</td><td>4302</td><td>2023-09-16</td><td>30d</td></tr><tr><td>171</td><td>344</td><td>313</td><td>781</td><td>1889</td><td>2318</td><td>2706</td><td>2692</td><td>1742</td><td>815</td><td>4</td><td>&quot;Wind&quot;</td><td>4302</td><td>2023-09-18</td><td>32d</td></tr><tr><td>266</td><td>496</td><td>544</td><td>1328</td><td>2166</td><td>2593</td><td>2672</td><td>3117</td><td>2985</td><td>1633</td><td>4</td><td>&quot;Clear Cut&quot;</td><td>4302</td><td>2023-09-28</td><td>2d</td></tr><tr><td>453</td><td>617</td><td>696</td><td>1397</td><td>2032</td><td>2384</td><td>2769</td><td>2897</td><td>2724</td><td>1627</td><td>4</td><td>&quot;Clear Cut&quot;</td><td>4302</td><td>2023-10-13</td><td>17d</td></tr></tbody></table></div>"
      ],
      "text/plain": [
       "shape: (481_489, 15)\n",
       "┌─────┬─────┬─────┬──────┬───┬───────────────┬───────────┬────────────┬──────────────────────────┐\n",
       "│ B02 ┆ B03 ┆ B04 ┆ B05  ┆ … ┆ labels        ┆ sample_id ┆ timestamps ┆ duration_since_last_flag │\n",
       "│ --- ┆ --- ┆ --- ┆ ---  ┆   ┆ ---           ┆ ---       ┆ ---        ┆ ---                      │\n",
       "│ u16 ┆ u16 ┆ u16 ┆ u16  ┆   ┆ str           ┆ u16       ┆ date       ┆ duration[ms]             │\n",
       "╞═════╪═════╪═════╪══════╪═══╪═══════════════╪═══════════╪════════════╪══════════════════════════╡\n",
       "│ 245 ┆ 516 ┆ 561 ┆ 1288 ┆ … ┆ Mature Forest ┆ 2         ┆ 2019-05-09 ┆ 120d                     │\n",
       "│ 353 ┆ 628 ┆ 648 ┆ 1290 ┆ … ┆ Mature Forest ┆ 2         ┆ 2019-05-14 ┆ 125d                     │\n",
       "│ 275 ┆ 546 ┆ 664 ┆ 1259 ┆ … ┆ Mature Forest ┆ 2         ┆ 2019-05-19 ┆ 130d                     │\n",
       "│ 231 ┆ 557 ┆ 571 ┆ 1346 ┆ … ┆ Mature Forest ┆ 2         ┆ 2019-05-29 ┆ 140d                     │\n",
       "│ 424 ┆ 670 ┆ 795 ┆ 1334 ┆ … ┆ Mature Forest ┆ 2         ┆ 2019-06-13 ┆ 155d                     │\n",
       "│ …   ┆ …   ┆ …   ┆ …    ┆ … ┆ …             ┆ …         ┆ …          ┆ …                        │\n",
       "│ 161 ┆ 348 ┆ 272 ┆ 648  ┆ … ┆ Wind          ┆ 4302      ┆ 2023-09-08 ┆ 22d                      │\n",
       "│ 214 ┆ 318 ┆ 286 ┆ 703  ┆ … ┆ Wind          ┆ 4302      ┆ 2023-09-16 ┆ 30d                      │\n",
       "│ 171 ┆ 344 ┆ 313 ┆ 781  ┆ … ┆ Wind          ┆ 4302      ┆ 2023-09-18 ┆ 32d                      │\n",
       "│ 266 ┆ 496 ┆ 544 ┆ 1328 ┆ … ┆ Clear Cut     ┆ 4302      ┆ 2023-09-28 ┆ 2d                       │\n",
       "│ 453 ┆ 617 ┆ 696 ┆ 1397 ┆ … ┆ Clear Cut     ┆ 4302      ┆ 2023-10-13 ┆ 17d                      │\n",
       "└─────┴─────┴─────┴──────┴───┴───────────────┴───────────┴────────────┴──────────────────────────┘"
      ]
     },
     "execution_count": 6,
     "metadata": {},
     "output_type": "execute_result"
    }
   ],
   "source": [
    "# load parquet target classes\n",
    "signal_data = (\n",
    "    pl.read_parquet(\"data/pixel_data.parquet\")\n",
    "    .filter(pl.col(\"labels\").is_in(target_classes))\n",
    "    .with_columns(\n",
    "        pl.col.labels.replace_strict(class_mapping, return_dtype=pl.String),\n",
    "        (\n",
    "            pl.col(\"timestamps\")\n",
    "            - pl.col(\"timestamps\").min().over(\"sample_id\", \"labels\")\n",
    "        ).alias(\"duration_since_last_flag\"),\n",
    "    )\n",
    "    .filter(\n",
    "        pl.col(\"timestamps\").dt.month().is_between(5, 10, closed=\"both\"),\n",
    "        pl.col.SCL.is_in([4, 5, 6, 7]),\n",
    "        (pl.col.duration_since_last_flag < pl.duration(days=60))\n",
    "        | (pl.col.labels == \"Mature Forest\"),\n",
    "    )\n",
    ")\n",
    "signal_data"
   ]
  },
  {
   "cell_type": "code",
   "execution_count": 7,
   "metadata": {},
   "outputs": [
    {
     "data": {
      "text/html": [
       "<div><style>\n",
       ".dataframe > thead > tr,\n",
       ".dataframe > tbody > tr {\n",
       "  text-align: right;\n",
       "  white-space: pre-wrap;\n",
       "}\n",
       "</style>\n",
       "<small>shape: (5, 2)</small><table border=\"1\" class=\"dataframe\"><thead><tr><th>labels</th><th>count</th></tr><tr><td>str</td><td>u32</td></tr></thead><tbody><tr><td>&quot;Bark Beetle (with decline)&quot;</td><td>1057</td></tr><tr><td>&quot;Wildfire&quot;</td><td>553</td></tr><tr><td>&quot;Mature Forest&quot;</td><td>475159</td></tr><tr><td>&quot;Clear Cut&quot;</td><td>3761</td></tr><tr><td>&quot;Wind&quot;</td><td>959</td></tr></tbody></table></div>"
      ],
      "text/plain": [
       "shape: (5, 2)\n",
       "┌────────────────────────────┬────────┐\n",
       "│ labels                     ┆ count  │\n",
       "│ ---                        ┆ ---    │\n",
       "│ str                        ┆ u32    │\n",
       "╞════════════════════════════╪════════╡\n",
       "│ Bark Beetle (with decline) ┆ 1057   │\n",
       "│ Wildfire                   ┆ 553    │\n",
       "│ Mature Forest              ┆ 475159 │\n",
       "│ Clear Cut                  ┆ 3761   │\n",
       "│ Wind                       ┆ 959    │\n",
       "└────────────────────────────┴────────┘"
      ]
     },
     "execution_count": 7,
     "metadata": {},
     "output_type": "execute_result"
    }
   ],
   "source": [
    "signal_data[\"labels\"].value_counts()"
   ]
  },
  {
   "cell_type": "code",
   "execution_count": 35,
   "metadata": {},
   "outputs": [
    {
     "data": {
      "text/html": [
       "<div><style>\n",
       ".dataframe > thead > tr,\n",
       ".dataframe > tbody > tr {\n",
       "  text-align: right;\n",
       "  white-space: pre-wrap;\n",
       "}\n",
       "</style>\n",
       "<small>shape: (1_234, 12)</small><table border=\"1\" class=\"dataframe\"><thead><tr><th>sample_id</th><th>original_sample_id</th><th>interpreter</th><th>dataset</th><th>source</th><th>source_description</th><th>s2_tile</th><th>cluster_id</th><th>cluster_description</th><th>comment</th><th>confidence</th><th>cluster_id_int</th></tr><tr><td>u64</td><td>i64</td><td>str</td><td>str</td><td>str</td><td>str</td><td>str</td><td>str</td><td>str</td><td>str</td><td>str</td><td>u32</td></tr></thead><tbody><tr><td>0</td><td>0</td><td>&quot;pum&quot;</td><td>&quot;Evoland&quot;</td><td>&quot;EFFIS&quot;</td><td>&quot;Evoland Project, EFFIS Source …</td><td>&quot;30SUF&quot;</td><td>&quot;0.0&quot;</td><td>&quot;Damage polygons&quot;</td><td>&quot;leichte Durchforstung 2021&quot;</td><td>&quot;high&quot;</td><td>0</td></tr><tr><td>1</td><td>1</td><td>&quot;pum&quot;</td><td>&quot;Evoland&quot;</td><td>&quot;EFFIS&quot;</td><td>&quot;Evoland Project, EFFIS Source …</td><td>&quot;30SUF&quot;</td><td>&quot;1.0&quot;</td><td>&quot;Damage polygons&quot;</td><td>&quot;Durchforstung_2021, kein Chang…</td><td>&quot;high&quot;</td><td>1</td></tr><tr><td>2</td><td>2</td><td>&quot;pum&quot;</td><td>&quot;Evoland&quot;</td><td>&quot;EFFIS&quot;</td><td>&quot;Evoland Project, EFFIS Source …</td><td>&quot;30SUF&quot;</td><td>&quot;2.0&quot;</td><td>&quot;Damage polygons&quot;</td><td>&quot;Durchforstung_2021, kein Chang…</td><td>&quot;high&quot;</td><td>2</td></tr><tr><td>3</td><td>3</td><td>&quot;pum&quot;</td><td>&quot;Evoland&quot;</td><td>&quot;EFFIS&quot;</td><td>&quot;Evoland Project, EFFIS Source …</td><td>&quot;30SUF&quot;</td><td>&quot;3.0&quot;</td><td>&quot;Damage polygons&quot;</td><td>&quot;Durchforstung 2021, unsicher&quot;</td><td>&quot;high&quot;</td><td>3</td></tr><tr><td>4</td><td>4</td><td>&quot;pum&quot;</td><td>&quot;Evoland&quot;</td><td>&quot;EFFIS&quot;</td><td>&quot;Evoland Project, EFFIS Source …</td><td>&quot;30SUF&quot;</td><td>&quot;5.0&quot;</td><td>&quot;Damage polygons&quot;</td><td>&quot;Durchforstung 2021, starke Dur…</td><td>&quot;high&quot;</td><td>4</td></tr><tr><td>&hellip;</td><td>&hellip;</td><td>&hellip;</td><td>&hellip;</td><td>&hellip;</td><td>&hellip;</td><td>&hellip;</td><td>&hellip;</td><td>&hellip;</td><td>&hellip;</td><td>&hellip;</td><td>&hellip;</td></tr><tr><td>4282</td><td>14467</td><td>&quot;vij&quot;</td><td>&quot;Windthrow&quot;</td><td>&quot;FORWIND + Copernicus Emergency…</td><td>&quot;https://mapping.emergency.cope…</td><td>null</td><td>&quot;LV20220807&quot;</td><td>&quot;Id of the Event, given as ISO2…</td><td>&quot;no wt&quot;</td><td>&quot;high&quot;</td><td>675</td></tr><tr><td>4283</td><td>15508</td><td>&quot;vij&quot;</td><td>&quot;Windthrow&quot;</td><td>&quot;FORWIND + Copernicus Emergency…</td><td>&quot;https://mapping.emergency.cope…</td><td>null</td><td>&quot;LV20220807&quot;</td><td>&quot;Id of the Event, given as ISO2…</td><td>&quot;unclear salvage&quot;</td><td>&quot;high&quot;</td><td>675</td></tr><tr><td>4285</td><td>14139</td><td>&quot;vij&quot;</td><td>&quot;Windthrow&quot;</td><td>&quot;FORWIND + Copernicus Emergency…</td><td>&quot;https://mapping.emergency.cope…</td><td>null</td><td>&quot;LV20220807&quot;</td><td>&quot;Id of the Event, given as ISO2…</td><td>&quot;no wt&quot;</td><td>&quot;high&quot;</td><td>675</td></tr><tr><td>4287</td><td>14238</td><td>&quot;vij&quot;</td><td>&quot;Windthrow&quot;</td><td>&quot;FORWIND + Copernicus Emergency…</td><td>&quot;https://mapping.emergency.cope…</td><td>null</td><td>&quot;LV20220807&quot;</td><td>&quot;Id of the Event, given as ISO2…</td><td>&quot;no wt&quot;</td><td>&quot;high&quot;</td><td>675</td></tr><tr><td>4293</td><td>13936</td><td>&quot;vij&quot;</td><td>&quot;Windthrow&quot;</td><td>&quot;FORWIND + Copernicus Emergency…</td><td>&quot;https://mapping.emergency.cope…</td><td>null</td><td>&quot;LV20220807&quot;</td><td>&quot;Id of the Event, given as ISO2…</td><td>&quot;complex&quot;</td><td>&quot;high&quot;</td><td>675</td></tr></tbody></table></div>"
      ],
      "text/plain": [
       "shape: (1_234, 12)\n",
       "┌───────────┬───────────┬───────────┬───────────┬───┬───────────┬───────────┬───────────┬──────────┐\n",
       "│ sample_id ┆ original_ ┆ interpret ┆ dataset   ┆ … ┆ cluster_d ┆ comment   ┆ confidenc ┆ cluster_ │\n",
       "│ ---       ┆ sample_id ┆ er        ┆ ---       ┆   ┆ escriptio ┆ ---       ┆ e         ┆ id_int   │\n",
       "│ u64       ┆ ---       ┆ ---       ┆ str       ┆   ┆ n         ┆ str       ┆ ---       ┆ ---      │\n",
       "│           ┆ i64       ┆ str       ┆           ┆   ┆ ---       ┆           ┆ str       ┆ u32      │\n",
       "│           ┆           ┆           ┆           ┆   ┆ str       ┆           ┆           ┆          │\n",
       "╞═══════════╪═══════════╪═══════════╪═══════════╪═══╪═══════════╪═══════════╪═══════════╪══════════╡\n",
       "│ 0         ┆ 0         ┆ pum       ┆ Evoland   ┆ … ┆ Damage    ┆ leichte   ┆ high      ┆ 0        │\n",
       "│           ┆           ┆           ┆           ┆   ┆ polygons  ┆ Durchfors ┆           ┆          │\n",
       "│           ┆           ┆           ┆           ┆   ┆           ┆ tung 2021 ┆           ┆          │\n",
       "│ 1         ┆ 1         ┆ pum       ┆ Evoland   ┆ … ┆ Damage    ┆ Durchfors ┆ high      ┆ 1        │\n",
       "│           ┆           ┆           ┆           ┆   ┆ polygons  ┆ tung_2021 ┆           ┆          │\n",
       "│           ┆           ┆           ┆           ┆   ┆           ┆ , kein    ┆           ┆          │\n",
       "│           ┆           ┆           ┆           ┆   ┆           ┆ Chang…    ┆           ┆          │\n",
       "│ 2         ┆ 2         ┆ pum       ┆ Evoland   ┆ … ┆ Damage    ┆ Durchfors ┆ high      ┆ 2        │\n",
       "│           ┆           ┆           ┆           ┆   ┆ polygons  ┆ tung_2021 ┆           ┆          │\n",
       "│           ┆           ┆           ┆           ┆   ┆           ┆ , kein    ┆           ┆          │\n",
       "│           ┆           ┆           ┆           ┆   ┆           ┆ Chang…    ┆           ┆          │\n",
       "│ 3         ┆ 3         ┆ pum       ┆ Evoland   ┆ … ┆ Damage    ┆ Durchfors ┆ high      ┆ 3        │\n",
       "│           ┆           ┆           ┆           ┆   ┆ polygons  ┆ tung      ┆           ┆          │\n",
       "│           ┆           ┆           ┆           ┆   ┆           ┆ 2021,     ┆           ┆          │\n",
       "│           ┆           ┆           ┆           ┆   ┆           ┆ unsicher  ┆           ┆          │\n",
       "│ 4         ┆ 4         ┆ pum       ┆ Evoland   ┆ … ┆ Damage    ┆ Durchfors ┆ high      ┆ 4        │\n",
       "│           ┆           ┆           ┆           ┆   ┆ polygons  ┆ tung      ┆           ┆          │\n",
       "│           ┆           ┆           ┆           ┆   ┆           ┆ 2021,     ┆           ┆          │\n",
       "│           ┆           ┆           ┆           ┆   ┆           ┆ starke    ┆           ┆          │\n",
       "│           ┆           ┆           ┆           ┆   ┆           ┆ Dur…      ┆           ┆          │\n",
       "│ …         ┆ …         ┆ …         ┆ …         ┆ … ┆ …         ┆ …         ┆ …         ┆ …        │\n",
       "│ 4282      ┆ 14467     ┆ vij       ┆ Windthrow ┆ … ┆ Id of the ┆ no wt     ┆ high      ┆ 675      │\n",
       "│           ┆           ┆           ┆           ┆   ┆ Event,    ┆           ┆           ┆          │\n",
       "│           ┆           ┆           ┆           ┆   ┆ given as  ┆           ┆           ┆          │\n",
       "│           ┆           ┆           ┆           ┆   ┆ ISO2…     ┆           ┆           ┆          │\n",
       "│ 4283      ┆ 15508     ┆ vij       ┆ Windthrow ┆ … ┆ Id of the ┆ unclear   ┆ high      ┆ 675      │\n",
       "│           ┆           ┆           ┆           ┆   ┆ Event,    ┆ salvage   ┆           ┆          │\n",
       "│           ┆           ┆           ┆           ┆   ┆ given as  ┆           ┆           ┆          │\n",
       "│           ┆           ┆           ┆           ┆   ┆ ISO2…     ┆           ┆           ┆          │\n",
       "│ 4285      ┆ 14139     ┆ vij       ┆ Windthrow ┆ … ┆ Id of the ┆ no wt     ┆ high      ┆ 675      │\n",
       "│           ┆           ┆           ┆           ┆   ┆ Event,    ┆           ┆           ┆          │\n",
       "│           ┆           ┆           ┆           ┆   ┆ given as  ┆           ┆           ┆          │\n",
       "│           ┆           ┆           ┆           ┆   ┆ ISO2…     ┆           ┆           ┆          │\n",
       "│ 4287      ┆ 14238     ┆ vij       ┆ Windthrow ┆ … ┆ Id of the ┆ no wt     ┆ high      ┆ 675      │\n",
       "│           ┆           ┆           ┆           ┆   ┆ Event,    ┆           ┆           ┆          │\n",
       "│           ┆           ┆           ┆           ┆   ┆ given as  ┆           ┆           ┆          │\n",
       "│           ┆           ┆           ┆           ┆   ┆ ISO2…     ┆           ┆           ┆          │\n",
       "│ 4293      ┆ 13936     ┆ vij       ┆ Windthrow ┆ … ┆ Id of the ┆ complex   ┆ high      ┆ 675      │\n",
       "│           ┆           ┆           ┆           ┆   ┆ Event,    ┆           ┆           ┆          │\n",
       "│           ┆           ┆           ┆           ┆   ┆ given as  ┆           ┆           ┆          │\n",
       "│           ┆           ┆           ┆           ┆   ┆ ISO2…     ┆           ┆           ┆          │\n",
       "└───────────┴───────────┴───────────┴───────────┴───┴───────────┴───────────┴───────────┴──────────┘"
      ]
     },
     "execution_count": 35,
     "metadata": {},
     "output_type": "execute_result"
    }
   ],
   "source": [
    "import geopandas as gpd\n",
    "\n",
    "groups = (\n",
    "    pl.from_pandas(gpd.read_parquet(\"data/samples.parquet\").drop(columns=\"geometry\"))\n",
    "    .with_columns(\n",
    "        cluster_id_int=pl.col(\"cluster_id\").rle_id(),\n",
    "    )\n",
    "    .filter(\n",
    "        pl.col.confidence == \"high\",\n",
    "        ~pl.col.comment.str.contains(\"TCD\"),\n",
    "        ~pl.col.comment.str.contains(\"border\"),\n",
    "    )\n",
    ")\n",
    "groups"
   ]
  },
  {
   "cell_type": "code",
   "execution_count": 36,
   "metadata": {},
   "outputs": [
    {
     "data": {
      "text/html": [
       "<div><style>\n",
       ".dataframe > thead > tr,\n",
       ".dataframe > tbody > tr {\n",
       "  text-align: right;\n",
       "  white-space: pre-wrap;\n",
       "}\n",
       "</style>\n",
       "<small>shape: (71_620, 16)</small><table border=\"1\" class=\"dataframe\"><thead><tr><th>B02</th><th>B03</th><th>B04</th><th>B05</th><th>B06</th><th>B07</th><th>B08</th><th>B8A</th><th>B11</th><th>B12</th><th>SCL</th><th>labels</th><th>sample_id</th><th>timestamps</th><th>duration_since_last_flag</th><th>cluster_id_int</th></tr><tr><td>u16</td><td>u16</td><td>u16</td><td>u16</td><td>u16</td><td>u16</td><td>u16</td><td>u16</td><td>u16</td><td>u16</td><td>u16</td><td>str</td><td>u16</td><td>date</td><td>duration[ms]</td><td>u32</td></tr></thead><tbody><tr><td>245</td><td>516</td><td>561</td><td>1288</td><td>3198</td><td>3903</td><td>3964</td><td>4265</td><td>2567</td><td>1417</td><td>4</td><td>&quot;Mature Forest&quot;</td><td>2</td><td>2019-05-09</td><td>120d</td><td>2</td></tr><tr><td>353</td><td>628</td><td>648</td><td>1290</td><td>3239</td><td>4129</td><td>4476</td><td>4570</td><td>2475</td><td>1414</td><td>4</td><td>&quot;Mature Forest&quot;</td><td>2</td><td>2019-05-14</td><td>125d</td><td>2</td></tr><tr><td>275</td><td>546</td><td>664</td><td>1259</td><td>3265</td><td>3996</td><td>4312</td><td>4411</td><td>2556</td><td>1405</td><td>4</td><td>&quot;Mature Forest&quot;</td><td>2</td><td>2019-05-19</td><td>130d</td><td>2</td></tr><tr><td>231</td><td>557</td><td>571</td><td>1346</td><td>3666</td><td>4559</td><td>4736</td><td>5049</td><td>2622</td><td>1397</td><td>4</td><td>&quot;Mature Forest&quot;</td><td>2</td><td>2019-05-29</td><td>140d</td><td>2</td></tr><tr><td>424</td><td>670</td><td>795</td><td>1334</td><td>3314</td><td>4338</td><td>4464</td><td>4732</td><td>2648</td><td>1523</td><td>4</td><td>&quot;Mature Forest&quot;</td><td>2</td><td>2019-06-13</td><td>155d</td><td>2</td></tr><tr><td>&hellip;</td><td>&hellip;</td><td>&hellip;</td><td>&hellip;</td><td>&hellip;</td><td>&hellip;</td><td>&hellip;</td><td>&hellip;</td><td>&hellip;</td><td>&hellip;</td><td>&hellip;</td><td>&hellip;</td><td>&hellip;</td><td>&hellip;</td><td>&hellip;</td><td>&hellip;</td></tr><tr><td>302</td><td>417</td><td>317</td><td>600</td><td>1427</td><td>1708</td><td>1743</td><td>1948</td><td>1073</td><td>583</td><td>4</td><td>&quot;Wind&quot;</td><td>4293</td><td>2023-09-26</td><td>40d</td><td>675</td></tr><tr><td>126</td><td>285</td><td>238</td><td>488</td><td>1409</td><td>1684</td><td>2155</td><td>1991</td><td>1111</td><td>518</td><td>4</td><td>&quot;Wind&quot;</td><td>4293</td><td>2023-09-28</td><td>42d</td><td>675</td></tr><tr><td>1118</td><td>1150</td><td>993</td><td>1161</td><td>1468</td><td>1577</td><td>1662</td><td>1597</td><td>600</td><td>274</td><td>7</td><td>&quot;Wind&quot;</td><td>4293</td><td>2023-10-01</td><td>45d</td><td>675</td></tr><tr><td>234</td><td>383</td><td>310</td><td>578</td><td>1520</td><td>1745</td><td>2448</td><td>2154</td><td>1058</td><td>584</td><td>4</td><td>&quot;Wind&quot;</td><td>4293</td><td>2023-10-06</td><td>50d</td><td>675</td></tr><tr><td>211</td><td>325</td><td>242</td><td>615</td><td>1269</td><td>1566</td><td>1688</td><td>1782</td><td>1068</td><td>577</td><td>4</td><td>&quot;Wind&quot;</td><td>4293</td><td>2023-10-13</td><td>57d</td><td>675</td></tr></tbody></table></div>"
      ],
      "text/plain": [
       "shape: (71_620, 16)\n",
       "┌──────┬──────┬─────┬──────┬───┬───────────┬────────────┬─────────────────────────┬────────────────┐\n",
       "│ B02  ┆ B03  ┆ B04 ┆ B05  ┆ … ┆ sample_id ┆ timestamps ┆ duration_since_last_fla ┆ cluster_id_int │\n",
       "│ ---  ┆ ---  ┆ --- ┆ ---  ┆   ┆ ---       ┆ ---        ┆ g                       ┆ ---            │\n",
       "│ u16  ┆ u16  ┆ u16 ┆ u16  ┆   ┆ u16       ┆ date       ┆ ---                     ┆ u32            │\n",
       "│      ┆      ┆     ┆      ┆   ┆           ┆            ┆ duration[ms]            ┆                │\n",
       "╞══════╪══════╪═════╪══════╪═══╪═══════════╪════════════╪═════════════════════════╪════════════════╡\n",
       "│ 245  ┆ 516  ┆ 561 ┆ 1288 ┆ … ┆ 2         ┆ 2019-05-09 ┆ 120d                    ┆ 2              │\n",
       "│ 353  ┆ 628  ┆ 648 ┆ 1290 ┆ … ┆ 2         ┆ 2019-05-14 ┆ 125d                    ┆ 2              │\n",
       "│ 275  ┆ 546  ┆ 664 ┆ 1259 ┆ … ┆ 2         ┆ 2019-05-19 ┆ 130d                    ┆ 2              │\n",
       "│ 231  ┆ 557  ┆ 571 ┆ 1346 ┆ … ┆ 2         ┆ 2019-05-29 ┆ 140d                    ┆ 2              │\n",
       "│ 424  ┆ 670  ┆ 795 ┆ 1334 ┆ … ┆ 2         ┆ 2019-06-13 ┆ 155d                    ┆ 2              │\n",
       "│ …    ┆ …    ┆ …   ┆ …    ┆ … ┆ …         ┆ …          ┆ …                       ┆ …              │\n",
       "│ 302  ┆ 417  ┆ 317 ┆ 600  ┆ … ┆ 4293      ┆ 2023-09-26 ┆ 40d                     ┆ 675            │\n",
       "│ 126  ┆ 285  ┆ 238 ┆ 488  ┆ … ┆ 4293      ┆ 2023-09-28 ┆ 42d                     ┆ 675            │\n",
       "│ 1118 ┆ 1150 ┆ 993 ┆ 1161 ┆ … ┆ 4293      ┆ 2023-10-01 ┆ 45d                     ┆ 675            │\n",
       "│ 234  ┆ 383  ┆ 310 ┆ 578  ┆ … ┆ 4293      ┆ 2023-10-06 ┆ 50d                     ┆ 675            │\n",
       "│ 211  ┆ 325  ┆ 242 ┆ 615  ┆ … ┆ 4293      ┆ 2023-10-13 ┆ 57d                     ┆ 675            │\n",
       "└──────┴──────┴─────┴──────┴───┴───────────┴────────────┴─────────────────────────┴────────────────┘"
      ]
     },
     "execution_count": 36,
     "metadata": {},
     "output_type": "execute_result"
    }
   ],
   "source": [
    "signal_data_with_cluster = signal_data.join(\n",
    "    groups[[\"sample_id\", \"cluster_id_int\"]],\n",
    "    left_on=\"sample_id\",\n",
    "    right_on=\"sample_id\",\n",
    "    how=\"inner\",\n",
    ")\n",
    "signal_data_with_cluster"
   ]
  },
  {
   "cell_type": "code",
   "execution_count": 37,
   "metadata": {},
   "outputs": [
    {
     "data": {
      "text/plain": [
       "array(['Bark Beetle (with decline)', 'Clear Cut', 'Mature Forest',\n",
       "       'Wildfire', 'Wind'], dtype='<U26')"
      ]
     },
     "execution_count": 37,
     "metadata": {},
     "output_type": "execute_result"
    }
   ],
   "source": [
    "le = LabelEncoder()\n",
    "le.fit(signal_data[\"labels\"])\n",
    "le.classes_"
   ]
  },
  {
   "cell_type": "code",
   "execution_count": 38,
   "metadata": {},
   "outputs": [],
   "source": [
    "with open(\"data/train_ids.json\", \"r\") as f:\n",
    "    train_ids = json.load(f)\n",
    "with open(\"data/val_ids.json\", \"r\") as f:\n",
    "    val_ids = json.load(f)\n",
    "\n",
    "train = signal_data_with_cluster.filter(pl.col.sample_id.is_in(train_ids))\n",
    "test = signal_data_with_cluster.filter(pl.col.sample_id.is_in(val_ids))"
   ]
  },
  {
   "cell_type": "markdown",
   "metadata": {},
   "source": [
    "## Export structured train/test data for spectral pixel data"
   ]
  },
  {
   "cell_type": "code",
   "execution_count": 40,
   "metadata": {},
   "outputs": [],
   "source": [
    "feature_columns = [\"B02\", \"B03\", \"B04\", \"B05\", \"B06\", \"B07\", \"B08\", \"B8A\", \"B11\", \"B12\"]\n",
    "\n",
    "# Create an instance of the dataclass\n",
    "data = TrainTest(\n",
    "    feature_columns=feature_columns,\n",
    "    label_encoder=le,\n",
    "    X=train[feature_columns].to_numpy(writable=True),\n",
    "    y=le.transform(train[\"labels\"]),\n",
    "    groups=train[\"sample_id\"].to_numpy(writable=True),\n",
    "    X_test=test[feature_columns].to_numpy(writable=True),\n",
    "    y_test=le.transform(test[\"labels\"]),\n",
    "    groups_test=test[\"sample_id\"].to_numpy(writable=True),\n",
    ")\n",
    "\n",
    "# Save as a single pickle file\n",
    "with open(\"data/spectral_train_test.pkl\", \"wb\") as file:\n",
    "    pickle.dump(data, file)"
   ]
  },
  {
   "cell_type": "code",
   "execution_count": 36,
   "metadata": {},
   "outputs": [
    {
     "data": {
      "text/plain": [
       "TrainTest(feature_columns=['B02', 'B03', 'B04', 'B05', 'B06', 'B07', 'B08', 'B8A', 'B11', 'B12'], label_encoder=LabelEncoder(), X=array([[ 245,  516,  561, ..., 4265, 2567, 1417],\n",
       "       [ 353,  628,  648, ..., 4570, 2475, 1414],\n",
       "       [ 275,  546,  664, ..., 4411, 2556, 1405],\n",
       "       ...,\n",
       "       [ 401,  472,  278, ..., 4251, 1461,  634],\n",
       "       [ 266,  496,  544, ..., 3117, 2985, 1633],\n",
       "       [ 453,  617,  696, ..., 2897, 2724, 1627]],\n",
       "      shape=(19688, 10), dtype=uint16), y=array([1, 1, 1, ..., 1, 0, 0], shape=(19688,)), groups=array([  2,   2,   2, ..., 675, 675, 675], shape=(19688,), dtype=uint32), X_test=array([[1136, 1490, 1604, ..., 2288, 2277, 1760],\n",
       "       [1011, 1358, 1458, ..., 2384, 2243, 1830],\n",
       "       [1058, 1442, 1556, ..., 2514, 2307, 1745],\n",
       "       ...,\n",
       "       [ 221,  345,  548, ..., 1597, 1848, 1120],\n",
       "       [ 536,  568,  651, ..., 1425, 1273, 1067],\n",
       "       [ 510,  597,  625, ..., 1217,  960,  690]],\n",
       "      shape=(2486, 10), dtype=uint16), y_test=array([1, 1, 1, ..., 0, 0, 0], shape=(2486,)), groups_test=array([  9,   9,   9, ..., 674, 674, 674], shape=(2486,), dtype=uint32))"
      ]
     },
     "execution_count": 36,
     "metadata": {},
     "output_type": "execute_result"
    }
   ],
   "source": [
    "data"
   ]
  }
 ],
 "metadata": {
  "kernelspec": {
   "display_name": "disturbance-agent-data (3.12.10)",
   "language": "python",
   "name": "python3"
  },
  "language_info": {
   "codemirror_mode": {
    "name": "ipython",
    "version": 3
   },
   "file_extension": ".py",
   "mimetype": "text/x-python",
   "name": "python",
   "nbconvert_exporter": "python",
   "pygments_lexer": "ipython3",
   "version": "3.12.10"
  }
 },
 "nbformat": 4,
 "nbformat_minor": 2
}
