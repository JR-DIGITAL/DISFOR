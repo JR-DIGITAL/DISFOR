{
 "cells": [
  {
   "cell_type": "code",
   "execution_count": null,
   "id": "1889021c",
   "metadata": {},
   "outputs": [
    {
     "ename": "",
     "evalue": "",
     "output_type": "error",
     "traceback": [
      "\u001b[1;31mRunning cells with 'disfor (Python 3.12.3)' requires the ipykernel package.\n",
      "\u001b[1;31mInstall 'ipykernel' into the Python environment. \n",
      "\u001b[1;31mCommand: '/home/jonas/Documents/Projects/2025/DISFOR/.venv/bin/python -m pip install ipykernel -U --force-reinstall'"
     ]
    }
   ],
   "source": [
    "import json\n",
    "\n",
    "import polars as pl\n",
    "import geopandas as gpd\n",
    "\n",
    "%load_ext autoreload\n",
    "%autoreload 2"
   ]
  },
  {
   "cell_type": "code",
   "execution_count": 3,
   "id": "fc3a5409",
   "metadata": {},
   "outputs": [],
   "source": [
    "with open(\"data/classes.json\", \"r\") as fp:\n",
    "    class_mapping = json.load(fp)\n",
    "\n",
    "# removing comments in parantheses\n",
    "short_superclass_mapping = {k: v.split(\" (\")[0] for k, v in class_mapping.items()}\n",
    "short_class_mapping = {k: f\"{v.split(' (')[0]} ({k})\" for k, v in class_mapping.items()}"
   ]
  },
  {
   "cell_type": "code",
   "execution_count": 4,
   "id": "59a13ace",
   "metadata": {},
   "outputs": [
    {
     "data": {
      "text/html": [
       "<div>\n",
       "<style scoped>\n",
       "    .dataframe tbody tr th:only-of-type {\n",
       "        vertical-align: middle;\n",
       "    }\n",
       "\n",
       "    .dataframe tbody tr th {\n",
       "        vertical-align: top;\n",
       "    }\n",
       "\n",
       "    .dataframe thead th {\n",
       "        text-align: right;\n",
       "    }\n",
       "</style>\n",
       "<table border=\"1\" class=\"dataframe\">\n",
       "  <thead>\n",
       "    <tr style=\"text-align: right;\">\n",
       "      <th></th>\n",
       "      <th>sample_id</th>\n",
       "      <th>original_sample_id</th>\n",
       "      <th>interpreter</th>\n",
       "      <th>dataset</th>\n",
       "      <th>source</th>\n",
       "      <th>source_description</th>\n",
       "      <th>s2_tile</th>\n",
       "      <th>cluster_id</th>\n",
       "      <th>cluster_description</th>\n",
       "      <th>comment</th>\n",
       "      <th>confidence</th>\n",
       "      <th>geometry</th>\n",
       "    </tr>\n",
       "  </thead>\n",
       "  <tbody>\n",
       "    <tr>\n",
       "      <th>0</th>\n",
       "      <td>0</td>\n",
       "      <td>0</td>\n",
       "      <td>pum</td>\n",
       "      <td>Evoland</td>\n",
       "      <td>EFFIS</td>\n",
       "      <td>Evoland Project, EFFIS Source of Wildfire Poly...</td>\n",
       "      <td>30SUF</td>\n",
       "      <td>0.0</td>\n",
       "      <td>Damage polygons</td>\n",
       "      <td>leichte Durchforstung 2021</td>\n",
       "      <td>high</td>\n",
       "      <td>POINT (-4.12212 36.74179)</td>\n",
       "    </tr>\n",
       "    <tr>\n",
       "      <th>1</th>\n",
       "      <td>1</td>\n",
       "      <td>1</td>\n",
       "      <td>pum</td>\n",
       "      <td>Evoland</td>\n",
       "      <td>EFFIS</td>\n",
       "      <td>Evoland Project, EFFIS Source of Wildfire Poly...</td>\n",
       "      <td>30SUF</td>\n",
       "      <td>1.0</td>\n",
       "      <td>Damage polygons</td>\n",
       "      <td>Durchforstung_2021, kein Change erkennbar</td>\n",
       "      <td>high</td>\n",
       "      <td>POINT (-4.12161 36.74231)</td>\n",
       "    </tr>\n",
       "    <tr>\n",
       "      <th>2</th>\n",
       "      <td>2</td>\n",
       "      <td>2</td>\n",
       "      <td>pum</td>\n",
       "      <td>Evoland</td>\n",
       "      <td>EFFIS</td>\n",
       "      <td>Evoland Project, EFFIS Source of Wildfire Poly...</td>\n",
       "      <td>30SUF</td>\n",
       "      <td>2.0</td>\n",
       "      <td>Damage polygons</td>\n",
       "      <td>Durchforstung_2021, kein Change erkennbar</td>\n",
       "      <td>high</td>\n",
       "      <td>POINT (-4.1192 36.74203)</td>\n",
       "    </tr>\n",
       "    <tr>\n",
       "      <th>3</th>\n",
       "      <td>3</td>\n",
       "      <td>3</td>\n",
       "      <td>pum</td>\n",
       "      <td>Evoland</td>\n",
       "      <td>EFFIS</td>\n",
       "      <td>Evoland Project, EFFIS Source of Wildfire Poly...</td>\n",
       "      <td>30SUF</td>\n",
       "      <td>3.0</td>\n",
       "      <td>Damage polygons</td>\n",
       "      <td>Durchforstung 2021, unsicher</td>\n",
       "      <td>high</td>\n",
       "      <td>POINT (-4.12845 36.75831)</td>\n",
       "    </tr>\n",
       "    <tr>\n",
       "      <th>4</th>\n",
       "      <td>4</td>\n",
       "      <td>4</td>\n",
       "      <td>pum</td>\n",
       "      <td>Evoland</td>\n",
       "      <td>EFFIS</td>\n",
       "      <td>Evoland Project, EFFIS Source of Wildfire Poly...</td>\n",
       "      <td>30SUF</td>\n",
       "      <td>5.0</td>\n",
       "      <td>Damage polygons</td>\n",
       "      <td>Durchforstung 2021, starke Durchforstung</td>\n",
       "      <td>high</td>\n",
       "      <td>POINT (-4.12816 36.75908)</td>\n",
       "    </tr>\n",
       "    <tr>\n",
       "      <th>...</th>\n",
       "      <td>...</td>\n",
       "      <td>...</td>\n",
       "      <td>...</td>\n",
       "      <td>...</td>\n",
       "      <td>...</td>\n",
       "      <td>...</td>\n",
       "      <td>...</td>\n",
       "      <td>...</td>\n",
       "      <td>...</td>\n",
       "      <td>...</td>\n",
       "      <td>...</td>\n",
       "      <td>...</td>\n",
       "    </tr>\n",
       "    <tr>\n",
       "      <th>4295</th>\n",
       "      <td>4295</td>\n",
       "      <td>14414</td>\n",
       "      <td>vij</td>\n",
       "      <td>Windthrow</td>\n",
       "      <td>FORWIND + Copernicus Emergency Service</td>\n",
       "      <td>https://mapping.emergency.copernicus.eu/activa...</td>\n",
       "      <td>&lt;NA&gt;</td>\n",
       "      <td>LV20220807</td>\n",
       "      <td>Id of the Event, given as ISO2 + Date of storm</td>\n",
       "      <td>&lt;NA&gt;</td>\n",
       "      <td>high</td>\n",
       "      <td>POINT (26.1231 56.51315)</td>\n",
       "    </tr>\n",
       "    <tr>\n",
       "      <th>4296</th>\n",
       "      <td>4296</td>\n",
       "      <td>14172</td>\n",
       "      <td>vij</td>\n",
       "      <td>Windthrow</td>\n",
       "      <td>FORWIND + Copernicus Emergency Service</td>\n",
       "      <td>https://mapping.emergency.copernicus.eu/activa...</td>\n",
       "      <td>&lt;NA&gt;</td>\n",
       "      <td>LV20220807</td>\n",
       "      <td>Id of the Event, given as ISO2 + Date of storm</td>\n",
       "      <td>&lt;NA&gt;</td>\n",
       "      <td>high</td>\n",
       "      <td>POINT (26.27588 57.06756)</td>\n",
       "    </tr>\n",
       "    <tr>\n",
       "      <th>4298</th>\n",
       "      <td>4298</td>\n",
       "      <td>15954</td>\n",
       "      <td>vij</td>\n",
       "      <td>Windthrow</td>\n",
       "      <td>FORWIND + Copernicus Emergency Service</td>\n",
       "      <td>https://mapping.emergency.copernicus.eu/activa...</td>\n",
       "      <td>&lt;NA&gt;</td>\n",
       "      <td>LV20220807</td>\n",
       "      <td>Id of the Event, given as ISO2 + Date of storm</td>\n",
       "      <td>might have bark beet</td>\n",
       "      <td>medium</td>\n",
       "      <td>POINT (23.44004 56.5117)</td>\n",
       "    </tr>\n",
       "    <tr>\n",
       "      <th>4300</th>\n",
       "      <td>4300</td>\n",
       "      <td>14519</td>\n",
       "      <td>vij</td>\n",
       "      <td>Windthrow</td>\n",
       "      <td>FORWIND + Copernicus Emergency Service</td>\n",
       "      <td>https://mapping.emergency.copernicus.eu/activa...</td>\n",
       "      <td>&lt;NA&gt;</td>\n",
       "      <td>LV20220807</td>\n",
       "      <td>Id of the Event, given as ISO2 + Date of storm</td>\n",
       "      <td>small scale</td>\n",
       "      <td>medium</td>\n",
       "      <td>POINT (26.21896 56.99972)</td>\n",
       "    </tr>\n",
       "    <tr>\n",
       "      <th>4302</th>\n",
       "      <td>4302</td>\n",
       "      <td>14629</td>\n",
       "      <td>vij</td>\n",
       "      <td>Windthrow</td>\n",
       "      <td>FORWIND + Copernicus Emergency Service</td>\n",
       "      <td>https://mapping.emergency.copernicus.eu/activa...</td>\n",
       "      <td>&lt;NA&gt;</td>\n",
       "      <td>LV20220807</td>\n",
       "      <td>Id of the Event, given as ISO2 + Date of storm</td>\n",
       "      <td>border</td>\n",
       "      <td>medium</td>\n",
       "      <td>POINT (26.38622 57.29761)</td>\n",
       "    </tr>\n",
       "  </tbody>\n",
       "</table>\n",
       "<p>3892 rows × 12 columns</p>\n",
       "</div>"
      ],
      "text/plain": [
       "      sample_id  original_sample_id interpreter    dataset  \\\n",
       "0             0                   0         pum    Evoland   \n",
       "1             1                   1         pum    Evoland   \n",
       "2             2                   2         pum    Evoland   \n",
       "3             3                   3         pum    Evoland   \n",
       "4             4                   4         pum    Evoland   \n",
       "...         ...                 ...         ...        ...   \n",
       "4295       4295               14414         vij  Windthrow   \n",
       "4296       4296               14172         vij  Windthrow   \n",
       "4298       4298               15954         vij  Windthrow   \n",
       "4300       4300               14519         vij  Windthrow   \n",
       "4302       4302               14629         vij  Windthrow   \n",
       "\n",
       "                                      source  \\\n",
       "0                                      EFFIS   \n",
       "1                                      EFFIS   \n",
       "2                                      EFFIS   \n",
       "3                                      EFFIS   \n",
       "4                                      EFFIS   \n",
       "...                                      ...   \n",
       "4295  FORWIND + Copernicus Emergency Service   \n",
       "4296  FORWIND + Copernicus Emergency Service   \n",
       "4298  FORWIND + Copernicus Emergency Service   \n",
       "4300  FORWIND + Copernicus Emergency Service   \n",
       "4302  FORWIND + Copernicus Emergency Service   \n",
       "\n",
       "                                     source_description s2_tile  cluster_id  \\\n",
       "0     Evoland Project, EFFIS Source of Wildfire Poly...   30SUF         0.0   \n",
       "1     Evoland Project, EFFIS Source of Wildfire Poly...   30SUF         1.0   \n",
       "2     Evoland Project, EFFIS Source of Wildfire Poly...   30SUF         2.0   \n",
       "3     Evoland Project, EFFIS Source of Wildfire Poly...   30SUF         3.0   \n",
       "4     Evoland Project, EFFIS Source of Wildfire Poly...   30SUF         5.0   \n",
       "...                                                 ...     ...         ...   \n",
       "4295  https://mapping.emergency.copernicus.eu/activa...    <NA>  LV20220807   \n",
       "4296  https://mapping.emergency.copernicus.eu/activa...    <NA>  LV20220807   \n",
       "4298  https://mapping.emergency.copernicus.eu/activa...    <NA>  LV20220807   \n",
       "4300  https://mapping.emergency.copernicus.eu/activa...    <NA>  LV20220807   \n",
       "4302  https://mapping.emergency.copernicus.eu/activa...    <NA>  LV20220807   \n",
       "\n",
       "                                 cluster_description  \\\n",
       "0                                    Damage polygons   \n",
       "1                                    Damage polygons   \n",
       "2                                    Damage polygons   \n",
       "3                                    Damage polygons   \n",
       "4                                    Damage polygons   \n",
       "...                                              ...   \n",
       "4295  Id of the Event, given as ISO2 + Date of storm   \n",
       "4296  Id of the Event, given as ISO2 + Date of storm   \n",
       "4298  Id of the Event, given as ISO2 + Date of storm   \n",
       "4300  Id of the Event, given as ISO2 + Date of storm   \n",
       "4302  Id of the Event, given as ISO2 + Date of storm   \n",
       "\n",
       "                                        comment confidence  \\\n",
       "0                    leichte Durchforstung 2021       high   \n",
       "1     Durchforstung_2021, kein Change erkennbar       high   \n",
       "2     Durchforstung_2021, kein Change erkennbar       high   \n",
       "3                  Durchforstung 2021, unsicher       high   \n",
       "4      Durchforstung 2021, starke Durchforstung       high   \n",
       "...                                         ...        ...   \n",
       "4295                                       <NA>       high   \n",
       "4296                                       <NA>       high   \n",
       "4298                       might have bark beet     medium   \n",
       "4300                                small scale     medium   \n",
       "4302                                     border     medium   \n",
       "\n",
       "                       geometry  \n",
       "0     POINT (-4.12212 36.74179)  \n",
       "1     POINT (-4.12161 36.74231)  \n",
       "2      POINT (-4.1192 36.74203)  \n",
       "3     POINT (-4.12845 36.75831)  \n",
       "4     POINT (-4.12816 36.75908)  \n",
       "...                         ...  \n",
       "4295   POINT (26.1231 56.51315)  \n",
       "4296  POINT (26.27588 57.06756)  \n",
       "4298   POINT (23.44004 56.5117)  \n",
       "4300  POINT (26.21896 56.99972)  \n",
       "4302  POINT (26.38622 57.29761)  \n",
       "\n",
       "[3892 rows x 12 columns]"
      ]
     },
     "execution_count": 4,
     "metadata": {},
     "output_type": "execute_result"
    }
   ],
   "source": [
    "samples = gpd.read_parquet(\"data/samples.parquet\")\n",
    "samples"
   ]
  },
  {
   "cell_type": "code",
   "execution_count": 6,
   "id": "a14bb98c",
   "metadata": {},
   "outputs": [
    {
     "data": {
      "text/html": [
       "<div><style>\n",
       ".dataframe > thead > tr,\n",
       ".dataframe > tbody > tr {\n",
       "  text-align: right;\n",
       "  white-space: pre-wrap;\n",
       "}\n",
       "</style>\n",
       "<small>shape: (6_818, 8)</small><table border=\"1\" class=\"dataframe\"><thead><tr><th>original_sample_id</th><th>dataset</th><th>label</th><th>original_label</th><th>start</th><th>end</th><th>sample_id</th><th>start_next_label</th></tr><tr><td>i64</td><td>str</td><td>str</td><td>str</td><td>datetime[ms, UTC]</td><td>datetime[ms, UTC]</td><td>u64</td><td>datetime[ms, UTC]</td></tr></thead><tbody><tr><td>2</td><td>&quot;Evoland&quot;</td><td>&quot;110&quot;</td><td>&quot;gesund&quot;</td><td>2019-01-09 11:11:03 UTC</td><td>2022-04-01 00:00:00 UTC</td><td>2</td><td>2022-04-08 11:11:05 UTC</td></tr><tr><td>2</td><td>&quot;Evoland&quot;</td><td>&quot;212&quot;</td><td>&quot;durchforstung&quot;</td><td>2022-04-08 11:11:05 UTC</td><td>2022-12-29 11:11:07 UTC</td><td>2</td><td>null</td></tr><tr><td>3</td><td>&quot;Evoland&quot;</td><td>&quot;110&quot;</td><td>&quot;gesund&quot;</td><td>2019-01-09 11:11:03 UTC</td><td>2022-05-01 00:00:00 UTC</td><td>3</td><td>2022-05-08 11:11:05 UTC</td></tr><tr><td>3</td><td>&quot;Evoland&quot;</td><td>&quot;212&quot;</td><td>&quot;durchforstung&quot;</td><td>2022-05-08 11:11:05 UTC</td><td>2022-12-29 11:11:07 UTC</td><td>3</td><td>null</td></tr><tr><td>4</td><td>&quot;Evoland&quot;</td><td>&quot;110&quot;</td><td>&quot;gesund&quot;</td><td>2019-01-09 11:11:03 UTC</td><td>2020-05-03 11:11:11 UTC</td><td>4</td><td>2020-05-08 11:11:06 UTC</td></tr><tr><td>&hellip;</td><td>&hellip;</td><td>&hellip;</td><td>&hellip;</td><td>&hellip;</td><td>&hellip;</td><td>&hellip;</td><td>&hellip;</td></tr><tr><td>14519</td><td>&quot;Windthrow&quot;</td><td>&quot;110&quot;</td><td>&quot;0&quot;</td><td>2017-05-30 00:00:00 UTC</td><td>2023-07-28 00:00:00 UTC</td><td>4300</td><td>2024-04-20 00:00:00 UTC</td></tr><tr><td>14519</td><td>&quot;Windthrow&quot;</td><td>&quot;220&quot;</td><td>&quot;a&quot;</td><td>2024-04-20 00:00:00 UTC</td><td>2024-04-20 23:59:59 UTC</td><td>4300</td><td>null</td></tr><tr><td>14629</td><td>&quot;Windthrow&quot;</td><td>&quot;110&quot;</td><td>&quot;0&quot;</td><td>2017-03-16 00:00:00 UTC</td><td>2023-08-07 00:00:00 UTC</td><td>4302</td><td>2023-08-17 00:00:00 UTC</td></tr><tr><td>14629</td><td>&quot;Windthrow&quot;</td><td>&quot;244&quot;</td><td>&quot;7&quot;</td><td>2023-08-17 00:00:00 UTC</td><td>2023-08-17 23:59:59 UTC</td><td>4302</td><td>2023-09-26 00:00:00 UTC</td></tr><tr><td>14629</td><td>&quot;Windthrow&quot;</td><td>&quot;222&quot;</td><td>&quot;a&quot;</td><td>2023-09-26 00:00:00 UTC</td><td>2023-09-26 23:59:59 UTC</td><td>4302</td><td>null</td></tr></tbody></table></div>"
      ],
      "text/plain": [
       "shape: (6_818, 8)\n",
       "┌─────────────┬───────────┬───────┬─────────────┬────────────┬────────────┬───────────┬────────────┐\n",
       "│ original_sa ┆ dataset   ┆ label ┆ original_la ┆ start      ┆ end        ┆ sample_id ┆ start_next │\n",
       "│ mple_id     ┆ ---       ┆ ---   ┆ bel         ┆ ---        ┆ ---        ┆ ---       ┆ _label     │\n",
       "│ ---         ┆ str       ┆ str   ┆ ---         ┆ datetime[m ┆ datetime[m ┆ u64       ┆ ---        │\n",
       "│ i64         ┆           ┆       ┆ str         ┆ s, UTC]    ┆ s, UTC]    ┆           ┆ datetime[m │\n",
       "│             ┆           ┆       ┆             ┆            ┆            ┆           ┆ s, UTC]    │\n",
       "╞═════════════╪═══════════╪═══════╪═════════════╪════════════╪════════════╪═══════════╪════════════╡\n",
       "│ 2           ┆ Evoland   ┆ 110   ┆ gesund      ┆ 2019-01-09 ┆ 2022-04-01 ┆ 2         ┆ 2022-04-08 │\n",
       "│             ┆           ┆       ┆             ┆ 11:11:03   ┆ 00:00:00   ┆           ┆ 11:11:05   │\n",
       "│             ┆           ┆       ┆             ┆ UTC        ┆ UTC        ┆           ┆ UTC        │\n",
       "│ 2           ┆ Evoland   ┆ 212   ┆ durchforstu ┆ 2022-04-08 ┆ 2022-12-29 ┆ 2         ┆ null       │\n",
       "│             ┆           ┆       ┆ ng          ┆ 11:11:05   ┆ 11:11:07   ┆           ┆            │\n",
       "│             ┆           ┆       ┆             ┆ UTC        ┆ UTC        ┆           ┆            │\n",
       "│ 3           ┆ Evoland   ┆ 110   ┆ gesund      ┆ 2019-01-09 ┆ 2022-05-01 ┆ 3         ┆ 2022-05-08 │\n",
       "│             ┆           ┆       ┆             ┆ 11:11:03   ┆ 00:00:00   ┆           ┆ 11:11:05   │\n",
       "│             ┆           ┆       ┆             ┆ UTC        ┆ UTC        ┆           ┆ UTC        │\n",
       "│ 3           ┆ Evoland   ┆ 212   ┆ durchforstu ┆ 2022-05-08 ┆ 2022-12-29 ┆ 3         ┆ null       │\n",
       "│             ┆           ┆       ┆ ng          ┆ 11:11:05   ┆ 11:11:07   ┆           ┆            │\n",
       "│             ┆           ┆       ┆             ┆ UTC        ┆ UTC        ┆           ┆            │\n",
       "│ 4           ┆ Evoland   ┆ 110   ┆ gesund      ┆ 2019-01-09 ┆ 2020-05-03 ┆ 4         ┆ 2020-05-08 │\n",
       "│             ┆           ┆       ┆             ┆ 11:11:03   ┆ 11:11:11   ┆           ┆ 11:11:06   │\n",
       "│             ┆           ┆       ┆             ┆ UTC        ┆ UTC        ┆           ┆ UTC        │\n",
       "│ …           ┆ …         ┆ …     ┆ …           ┆ …          ┆ …          ┆ …         ┆ …          │\n",
       "│ 14519       ┆ Windthrow ┆ 110   ┆ 0           ┆ 2017-05-30 ┆ 2023-07-28 ┆ 4300      ┆ 2024-04-20 │\n",
       "│             ┆           ┆       ┆             ┆ 00:00:00   ┆ 00:00:00   ┆           ┆ 00:00:00   │\n",
       "│             ┆           ┆       ┆             ┆ UTC        ┆ UTC        ┆           ┆ UTC        │\n",
       "│ 14519       ┆ Windthrow ┆ 220   ┆ a           ┆ 2024-04-20 ┆ 2024-04-20 ┆ 4300      ┆ null       │\n",
       "│             ┆           ┆       ┆             ┆ 00:00:00   ┆ 23:59:59   ┆           ┆            │\n",
       "│             ┆           ┆       ┆             ┆ UTC        ┆ UTC        ┆           ┆            │\n",
       "│ 14629       ┆ Windthrow ┆ 110   ┆ 0           ┆ 2017-03-16 ┆ 2023-08-07 ┆ 4302      ┆ 2023-08-17 │\n",
       "│             ┆           ┆       ┆             ┆ 00:00:00   ┆ 00:00:00   ┆           ┆ 00:00:00   │\n",
       "│             ┆           ┆       ┆             ┆ UTC        ┆ UTC        ┆           ┆ UTC        │\n",
       "│ 14629       ┆ Windthrow ┆ 244   ┆ 7           ┆ 2023-08-17 ┆ 2023-08-17 ┆ 4302      ┆ 2023-09-26 │\n",
       "│             ┆           ┆       ┆             ┆ 00:00:00   ┆ 23:59:59   ┆           ┆ 00:00:00   │\n",
       "│             ┆           ┆       ┆             ┆ UTC        ┆ UTC        ┆           ┆ UTC        │\n",
       "│ 14629       ┆ Windthrow ┆ 222   ┆ a           ┆ 2023-09-26 ┆ 2023-09-26 ┆ 4302      ┆ null       │\n",
       "│             ┆           ┆       ┆             ┆ 00:00:00   ┆ 23:59:59   ┆           ┆            │\n",
       "│             ┆           ┆       ┆             ┆ UTC        ┆ UTC        ┆           ┆            │\n",
       "└─────────────┴───────────┴───────┴─────────────┴────────────┴────────────┴───────────┴────────────┘"
      ]
     },
     "execution_count": 6,
     "metadata": {},
     "output_type": "execute_result"
    }
   ],
   "source": [
    "labels = pl.read_parquet(\"data/labels.parquet\")\n",
    "labels"
   ]
  },
  {
   "cell_type": "code",
   "execution_count": 7,
   "id": "1f8529f6",
   "metadata": {},
   "outputs": [
    {
     "name": "stderr",
     "output_type": "stream",
     "text": [
      "C:\\Users\\Jonas.Viehweger\\AppData\\Local\\Temp\\ipykernel_21712\\3496868334.py:14: DeprecationWarning: the `return_dtype` parameter for `replace` is deprecated. Use `replace_strict` instead to set a return data type while replacing values.\n",
      "(Deprecated in version 1.0.0)\n",
      "C:\\Users\\Jonas.Viehweger\\AppData\\Local\\Temp\\ipykernel_21712\\3496868334.py:15: DeprecationWarning: the `return_dtype` parameter for `replace` is deprecated. Use `replace_strict` instead to set a return data type while replacing values.\n",
      "(Deprecated in version 1.0.0)\n"
     ]
    },
    {
     "data": {
      "text/html": [
       "<div><style>\n",
       ".dataframe > thead > tr,\n",
       ".dataframe > tbody > tr {\n",
       "  text-align: right;\n",
       "  white-space: pre-wrap;\n",
       "}\n",
       "</style>\n",
       "<small>shape: (5_947, 11)</small><table border=\"1\" class=\"dataframe\"><thead><tr><th>original_sample_id</th><th>dataset</th><th>label</th><th>original_label</th><th>start</th><th>end</th><th>sample_id</th><th>start_next_label</th><th>superclass</th><th>biggroup</th><th>label_str</th></tr><tr><td>i64</td><td>str</td><td>str</td><td>str</td><td>datetime[ms, UTC]</td><td>datetime[ms, UTC]</td><td>u64</td><td>datetime[ms, UTC]</td><td>str</td><td>enum</td><td>enum</td></tr></thead><tbody><tr><td>912</td><td>&quot;Evoland&quot;</td><td>&quot;221&quot;</td><td>&quot;teilraeumung&quot;</td><td>2020-03-17 10:26:30 UTC</td><td>2021-11-10 10:36:29 UTC</td><td>725</td><td>null</td><td>&quot;220&quot;</td><td>&quot;Salvage&quot;</td><td>&quot;After Biotic Disturbance (221)&quot;</td></tr><tr><td>416</td><td>&quot;Evoland&quot;</td><td>&quot;110&quot;</td><td>&quot;gesund&quot;</td><td>2015-08-19 10:30:28 UTC</td><td>2018-08-31 10:40:13 UTC</td><td>410</td><td>2018-09-02 10:30:20 UTC</td><td>&quot;110&quot;</td><td>&quot;Mature Forest&quot;</td><td>&quot;Mature Forest (110)&quot;</td></tr><tr><td>1218</td><td>&quot;Evoland&quot;</td><td>&quot;244&quot;</td><td>&quot;sturm&quot;</td><td>2018-10-04 10:20:18 UTC</td><td>2019-02-23 10:16:37 UTC</td><td>956</td><td>2019-03-20 10:16:40 UTC</td><td>&quot;240&quot;</td><td>&quot;Abiotic&quot;</td><td>&quot;Wind (244)&quot;</td></tr><tr><td>817</td><td>&quot;Evoland&quot;</td><td>&quot;110&quot;</td><td>&quot;gesund&quot;</td><td>2015-08-06 10:20:12 UTC</td><td>2017-10-19 10:20:55 UTC</td><td>665</td><td>2018-02-01 10:22:37 UTC</td><td>&quot;110&quot;</td><td>&quot;Mature Forest&quot;</td><td>&quot;Mature Forest (110)&quot;</td></tr><tr><td>802</td><td>&quot;Windthrow&quot;</td><td>&quot;222&quot;</td><td>&quot;a&quot;</td><td>2018-03-08 00:00:00 UTC</td><td>2018-03-08 23:59:59 UTC</td><td>3797</td><td>2018-08-05 00:00:00 UTC</td><td>&quot;220&quot;</td><td>&quot;Salvage&quot;</td><td>&quot;After Abiotic Disturbance (222…</td></tr><tr><td>&hellip;</td><td>&hellip;</td><td>&hellip;</td><td>&hellip;</td><td>&hellip;</td><td>&hellip;</td><td>&hellip;</td><td>&hellip;</td><td>&hellip;</td><td>&hellip;</td><td>&hellip;</td></tr><tr><td>1526</td><td>&quot;HRVPP&quot;</td><td>&quot;120&quot;</td><td>&quot;3&quot;</td><td>2020-04-01 00:00:00 UTC</td><td>2025-01-01 00:00:00 UTC</td><td>2531</td><td>null</td><td>&quot;120&quot;</td><td>&quot;Revegetation&quot;</td><td>&quot;Revegetation (120)&quot;</td></tr><tr><td>676</td><td>&quot;HRVPP&quot;</td><td>&quot;110&quot;</td><td>&quot;0&quot;</td><td>2016-05-01 00:00:00 UTC</td><td>2025-01-01 00:00:00 UTC</td><td>1681</td><td>null</td><td>&quot;110&quot;</td><td>&quot;Mature Forest&quot;</td><td>&quot;Mature Forest (110)&quot;</td></tr><tr><td>758</td><td>&quot;Evoland&quot;</td><td>&quot;122&quot;</td><td>&quot;erholung&quot;</td><td>2019-08-18 10:37:01 UTC</td><td>2021-11-10 10:36:58 UTC</td><td>631</td><td>null</td><td>&quot;120&quot;</td><td>&quot;Revegetation&quot;</td><td>&quot;Canopy closing (122)&quot;</td></tr><tr><td>1665</td><td>&quot;HRVPP&quot;</td><td>&quot;110&quot;</td><td>&quot;0&quot;</td><td>2022-02-16 00:00:00 UTC</td><td>2024-11-16 00:00:00 UTC</td><td>2670</td><td>null</td><td>&quot;110&quot;</td><td>&quot;Mature Forest&quot;</td><td>&quot;Mature Forest (110)&quot;</td></tr><tr><td>847</td><td>&quot;Evoland&quot;</td><td>&quot;244&quot;</td><td>&quot;sturm-snow&quot;</td><td>2018-02-01 10:22:37 UTC</td><td>2018-08-08 10:34:48 UTC</td><td>695</td><td>2018-08-23 10:35:35 UTC</td><td>&quot;240&quot;</td><td>&quot;Abiotic&quot;</td><td>&quot;Wind (244)&quot;</td></tr></tbody></table></div>"
      ],
      "text/plain": [
       "shape: (5_947, 11)\n",
       "┌────────────┬───────────┬───────┬────────────┬───┬────────────┬───────────┬───────────┬───────────┐\n",
       "│ original_s ┆ dataset   ┆ label ┆ original_l ┆ … ┆ start_next ┆ superclas ┆ biggroup  ┆ label_str │\n",
       "│ ample_id   ┆ ---       ┆ ---   ┆ abel       ┆   ┆ _label     ┆ s         ┆ ---       ┆ ---       │\n",
       "│ ---        ┆ str       ┆ str   ┆ ---        ┆   ┆ ---        ┆ ---       ┆ enum      ┆ enum      │\n",
       "│ i64        ┆           ┆       ┆ str        ┆   ┆ datetime[m ┆ str       ┆           ┆           │\n",
       "│            ┆           ┆       ┆            ┆   ┆ s, UTC]    ┆           ┆           ┆           │\n",
       "╞════════════╪═══════════╪═══════╪════════════╪═══╪════════════╪═══════════╪═══════════╪═══════════╡\n",
       "│ 912        ┆ Evoland   ┆ 221   ┆ teilraeumu ┆ … ┆ null       ┆ 220       ┆ Salvage   ┆ After     │\n",
       "│            ┆           ┆       ┆ ng         ┆   ┆            ┆           ┆           ┆ Biotic    │\n",
       "│            ┆           ┆       ┆            ┆   ┆            ┆           ┆           ┆ Disturban │\n",
       "│            ┆           ┆       ┆            ┆   ┆            ┆           ┆           ┆ ce (221)  │\n",
       "│ 416        ┆ Evoland   ┆ 110   ┆ gesund     ┆ … ┆ 2018-09-02 ┆ 110       ┆ Mature    ┆ Mature    │\n",
       "│            ┆           ┆       ┆            ┆   ┆ 10:30:20   ┆           ┆ Forest    ┆ Forest    │\n",
       "│            ┆           ┆       ┆            ┆   ┆ UTC        ┆           ┆           ┆ (110)     │\n",
       "│ 1218       ┆ Evoland   ┆ 244   ┆ sturm      ┆ … ┆ 2019-03-20 ┆ 240       ┆ Abiotic   ┆ Wind      │\n",
       "│            ┆           ┆       ┆            ┆   ┆ 10:16:40   ┆           ┆           ┆ (244)     │\n",
       "│            ┆           ┆       ┆            ┆   ┆ UTC        ┆           ┆           ┆           │\n",
       "│ 817        ┆ Evoland   ┆ 110   ┆ gesund     ┆ … ┆ 2018-02-01 ┆ 110       ┆ Mature    ┆ Mature    │\n",
       "│            ┆           ┆       ┆            ┆   ┆ 10:22:37   ┆           ┆ Forest    ┆ Forest    │\n",
       "│            ┆           ┆       ┆            ┆   ┆ UTC        ┆           ┆           ┆ (110)     │\n",
       "│ 802        ┆ Windthrow ┆ 222   ┆ a          ┆ … ┆ 2018-08-05 ┆ 220       ┆ Salvage   ┆ After     │\n",
       "│            ┆           ┆       ┆            ┆   ┆ 00:00:00   ┆           ┆           ┆ Abiotic   │\n",
       "│            ┆           ┆       ┆            ┆   ┆ UTC        ┆           ┆           ┆ Disturban │\n",
       "│            ┆           ┆       ┆            ┆   ┆            ┆           ┆           ┆ ce (222…  │\n",
       "│ …          ┆ …         ┆ …     ┆ …          ┆ … ┆ …          ┆ …         ┆ …         ┆ …         │\n",
       "│ 1526       ┆ HRVPP     ┆ 120   ┆ 3          ┆ … ┆ null       ┆ 120       ┆ Revegetat ┆ Revegetat │\n",
       "│            ┆           ┆       ┆            ┆   ┆            ┆           ┆ ion       ┆ ion (120) │\n",
       "│ 676        ┆ HRVPP     ┆ 110   ┆ 0          ┆ … ┆ null       ┆ 110       ┆ Mature    ┆ Mature    │\n",
       "│            ┆           ┆       ┆            ┆   ┆            ┆           ┆ Forest    ┆ Forest    │\n",
       "│            ┆           ┆       ┆            ┆   ┆            ┆           ┆           ┆ (110)     │\n",
       "│ 758        ┆ Evoland   ┆ 122   ┆ erholung   ┆ … ┆ null       ┆ 120       ┆ Revegetat ┆ Canopy    │\n",
       "│            ┆           ┆       ┆            ┆   ┆            ┆           ┆ ion       ┆ closing   │\n",
       "│            ┆           ┆       ┆            ┆   ┆            ┆           ┆           ┆ (122)     │\n",
       "│ 1665       ┆ HRVPP     ┆ 110   ┆ 0          ┆ … ┆ null       ┆ 110       ┆ Mature    ┆ Mature    │\n",
       "│            ┆           ┆       ┆            ┆   ┆            ┆           ┆ Forest    ┆ Forest    │\n",
       "│            ┆           ┆       ┆            ┆   ┆            ┆           ┆           ┆ (110)     │\n",
       "│ 847        ┆ Evoland   ┆ 244   ┆ sturm-snow ┆ … ┆ 2018-08-23 ┆ 240       ┆ Abiotic   ┆ Wind      │\n",
       "│            ┆           ┆       ┆            ┆   ┆ 10:35:35   ┆           ┆           ┆ (244)     │\n",
       "│            ┆           ┆       ┆            ┆   ┆ UTC        ┆           ┆           ┆           │\n",
       "└────────────┴───────────┴───────┴────────────┴───┴────────────┴───────────┴───────────┴───────────┘"
      ]
     },
     "execution_count": 7,
     "metadata": {},
     "output_type": "execute_result"
    }
   ],
   "source": [
    "superclass_enum = pl.Enum([\"110\", \"120\", \"210\", \"220\", \"230\", \"240\"])\n",
    "superclass_str_enum = pl.Enum(\n",
    "    [\"Mature Forest\", \"Revegetation\", \"Planned\", \"Salvage\", \"Biotic\", \"Abiotic\"]\n",
    ")\n",
    "low_level_class_enum = pl.Enum(reversed(short_class_mapping.values()))\n",
    "unique_events = (\n",
    "    labels.unique([\"original_sample_id\", \"label\"])\n",
    "    .filter(~pl.col.label.is_in([\"999\"]))\n",
    "    .with_columns(superclass=(pl.col.label.str.slice(0, 2) + pl.lit(\"0\")))\n",
    "    .with_columns(\n",
    "        pl.col.superclass.replace(\n",
    "            short_superclass_mapping, return_dtype=superclass_str_enum\n",
    "        ).alias(\"biggroup\"),\n",
    "        pl.col.label.replace(\n",
    "            short_class_mapping, return_dtype=low_level_class_enum\n",
    "        ).alias(\"label_str\"),\n",
    "    )\n",
    ")\n",
    "unique_events"
   ]
  },
  {
   "cell_type": "code",
   "execution_count": 8,
   "id": "40e6eed0",
   "metadata": {},
   "outputs": [
    {
     "data": {
      "image/png": "[encoded data removed]"
     },
     "metadata": {
      "image/png": {
       "height": 480,
       "width": 640
      }
     },
     "output_type": "display_data"
    }
   ],
   "source": [
    "from plotnine import (\n",
    "    ggplot,\n",
    "    aes,\n",
    "    geom_bar,\n",
    "    labs,\n",
    "    facet_grid,\n",
    "    geom_text,\n",
    "    after_stat,\n",
    "    coord_flip,\n",
    "    theme,\n",
    "    element_text,\n",
    ")\n",
    "\n",
    "(\n",
    "    ggplot(unique_events, aes(x=\"label_str\", fill=\"biggroup\"))\n",
    "    + geom_bar(show_legend=False)\n",
    "    + coord_flip()\n",
    "    + geom_text(\n",
    "        aes(label=after_stat(\"count\"), group=1),\n",
    "        stat=\"count\",\n",
    "        va=\"center\",\n",
    "        size=9,\n",
    "    )\n",
    "    + facet_grid(rows=\"biggroup\", scales=\"free_y\", space=\"free_y\")\n",
    "    + theme(\n",
    "        strip_text_y=element_text(angle=0),  # change facet text angle\n",
    "    )\n",
    "    + labs(y=\"Number of unique segments\", x=\"Class name (class ID)\")\n",
    ")"
   ]
  },
  {
   "cell_type": "code",
   "execution_count": 9,
   "id": "2d875552",
   "metadata": {},
   "outputs": [
    {
     "data": {
      "text/html": [
       "<div><style>\n",
       ".dataframe > thead > tr,\n",
       ".dataframe > tbody > tr {\n",
       "  text-align: right;\n",
       "  white-space: pre-wrap;\n",
       "}\n",
       "</style>\n",
       "<small>shape: (5_947, 11)</small><table border=\"1\" class=\"dataframe\"><thead><tr><th>original_sample_id</th><th>dataset</th><th>label</th><th>original_label</th><th>start</th><th>end</th><th>sample_id</th><th>start_next_label</th><th>superclass</th><th>biggroup</th><th>label_str</th></tr><tr><td>i64</td><td>str</td><td>str</td><td>str</td><td>datetime[ms, UTC]</td><td>datetime[ms, UTC]</td><td>u64</td><td>datetime[ms, UTC]</td><td>str</td><td>enum</td><td>enum</td></tr></thead><tbody><tr><td>912</td><td>&quot;Evoland&quot;</td><td>&quot;221&quot;</td><td>&quot;teilraeumung&quot;</td><td>2020-03-17 10:26:30 UTC</td><td>2021-11-10 10:36:29 UTC</td><td>725</td><td>null</td><td>&quot;220&quot;</td><td>&quot;Salvage&quot;</td><td>&quot;After Biotic Disturbance (221)&quot;</td></tr><tr><td>416</td><td>&quot;Evoland&quot;</td><td>&quot;110&quot;</td><td>&quot;gesund&quot;</td><td>2015-08-19 10:30:28 UTC</td><td>2018-08-31 10:40:13 UTC</td><td>410</td><td>2018-09-02 10:30:20 UTC</td><td>&quot;110&quot;</td><td>&quot;Mature Forest&quot;</td><td>&quot;Mature Forest (110)&quot;</td></tr><tr><td>1218</td><td>&quot;Evoland&quot;</td><td>&quot;244&quot;</td><td>&quot;sturm&quot;</td><td>2018-10-04 10:20:18 UTC</td><td>2019-02-23 10:16:37 UTC</td><td>956</td><td>2019-03-20 10:16:40 UTC</td><td>&quot;240&quot;</td><td>&quot;Abiotic&quot;</td><td>&quot;Wind (244)&quot;</td></tr><tr><td>817</td><td>&quot;Evoland&quot;</td><td>&quot;110&quot;</td><td>&quot;gesund&quot;</td><td>2015-08-06 10:20:12 UTC</td><td>2017-10-19 10:20:55 UTC</td><td>665</td><td>2018-02-01 10:22:37 UTC</td><td>&quot;110&quot;</td><td>&quot;Mature Forest&quot;</td><td>&quot;Mature Forest (110)&quot;</td></tr><tr><td>802</td><td>&quot;Windthrow&quot;</td><td>&quot;222&quot;</td><td>&quot;a&quot;</td><td>2018-03-08 00:00:00 UTC</td><td>2018-03-08 23:59:59 UTC</td><td>3797</td><td>2018-08-05 00:00:00 UTC</td><td>&quot;220&quot;</td><td>&quot;Salvage&quot;</td><td>&quot;After Abiotic Disturbance (222…</td></tr><tr><td>&hellip;</td><td>&hellip;</td><td>&hellip;</td><td>&hellip;</td><td>&hellip;</td><td>&hellip;</td><td>&hellip;</td><td>&hellip;</td><td>&hellip;</td><td>&hellip;</td><td>&hellip;</td></tr><tr><td>1526</td><td>&quot;HRVPP&quot;</td><td>&quot;120&quot;</td><td>&quot;3&quot;</td><td>2020-04-01 00:00:00 UTC</td><td>2025-01-01 00:00:00 UTC</td><td>2531</td><td>null</td><td>&quot;120&quot;</td><td>&quot;Revegetation&quot;</td><td>&quot;Revegetation (120)&quot;</td></tr><tr><td>676</td><td>&quot;HRVPP&quot;</td><td>&quot;110&quot;</td><td>&quot;0&quot;</td><td>2016-05-01 00:00:00 UTC</td><td>2025-01-01 00:00:00 UTC</td><td>1681</td><td>null</td><td>&quot;110&quot;</td><td>&quot;Mature Forest&quot;</td><td>&quot;Mature Forest (110)&quot;</td></tr><tr><td>758</td><td>&quot;Evoland&quot;</td><td>&quot;122&quot;</td><td>&quot;erholung&quot;</td><td>2019-08-18 10:37:01 UTC</td><td>2021-11-10 10:36:58 UTC</td><td>631</td><td>null</td><td>&quot;120&quot;</td><td>&quot;Revegetation&quot;</td><td>&quot;Canopy closing (122)&quot;</td></tr><tr><td>1665</td><td>&quot;HRVPP&quot;</td><td>&quot;110&quot;</td><td>&quot;0&quot;</td><td>2022-02-16 00:00:00 UTC</td><td>2024-11-16 00:00:00 UTC</td><td>2670</td><td>null</td><td>&quot;110&quot;</td><td>&quot;Mature Forest&quot;</td><td>&quot;Mature Forest (110)&quot;</td></tr><tr><td>847</td><td>&quot;Evoland&quot;</td><td>&quot;244&quot;</td><td>&quot;sturm-snow&quot;</td><td>2018-02-01 10:22:37 UTC</td><td>2018-08-08 10:34:48 UTC</td><td>695</td><td>2018-08-23 10:35:35 UTC</td><td>&quot;240&quot;</td><td>&quot;Abiotic&quot;</td><td>&quot;Wind (244)&quot;</td></tr></tbody></table></div>"
      ],
      "text/plain": [
       "shape: (5_947, 11)\n",
       "┌────────────┬───────────┬───────┬────────────┬───┬────────────┬───────────┬───────────┬───────────┐\n",
       "│ original_s ┆ dataset   ┆ label ┆ original_l ┆ … ┆ start_next ┆ superclas ┆ biggroup  ┆ label_str │\n",
       "│ ample_id   ┆ ---       ┆ ---   ┆ abel       ┆   ┆ _label     ┆ s         ┆ ---       ┆ ---       │\n",
       "│ ---        ┆ str       ┆ str   ┆ ---        ┆   ┆ ---        ┆ ---       ┆ enum      ┆ enum      │\n",
       "│ i64        ┆           ┆       ┆ str        ┆   ┆ datetime[m ┆ str       ┆           ┆           │\n",
       "│            ┆           ┆       ┆            ┆   ┆ s, UTC]    ┆           ┆           ┆           │\n",
       "╞════════════╪═══════════╪═══════╪════════════╪═══╪════════════╪═══════════╪═══════════╪═══════════╡\n",
       "│ 912        ┆ Evoland   ┆ 221   ┆ teilraeumu ┆ … ┆ null       ┆ 220       ┆ Salvage   ┆ After     │\n",
       "│            ┆           ┆       ┆ ng         ┆   ┆            ┆           ┆           ┆ Biotic    │\n",
       "│            ┆           ┆       ┆            ┆   ┆            ┆           ┆           ┆ Disturban │\n",
       "│            ┆           ┆       ┆            ┆   ┆            ┆           ┆           ┆ ce (221)  │\n",
       "│ 416        ┆ Evoland   ┆ 110   ┆ gesund     ┆ … ┆ 2018-09-02 ┆ 110       ┆ Mature    ┆ Mature    │\n",
       "│            ┆           ┆       ┆            ┆   ┆ 10:30:20   ┆           ┆ Forest    ┆ Forest    │\n",
       "│            ┆           ┆       ┆            ┆   ┆ UTC        ┆           ┆           ┆ (110)     │\n",
       "│ 1218       ┆ Evoland   ┆ 244   ┆ sturm      ┆ … ┆ 2019-03-20 ┆ 240       ┆ Abiotic   ┆ Wind      │\n",
       "│            ┆           ┆       ┆            ┆   ┆ 10:16:40   ┆           ┆           ┆ (244)     │\n",
       "│            ┆           ┆       ┆            ┆   ┆ UTC        ┆           ┆           ┆           │\n",
       "│ 817        ┆ Evoland   ┆ 110   ┆ gesund     ┆ … ┆ 2018-02-01 ┆ 110       ┆ Mature    ┆ Mature    │\n",
       "│            ┆           ┆       ┆            ┆   ┆ 10:22:37   ┆           ┆ Forest    ┆ Forest    │\n",
       "│            ┆           ┆       ┆            ┆   ┆ UTC        ┆           ┆           ┆ (110)     │\n",
       "│ 802        ┆ Windthrow ┆ 222   ┆ a          ┆ … ┆ 2018-08-05 ┆ 220       ┆ Salvage   ┆ After     │\n",
       "│            ┆           ┆       ┆            ┆   ┆ 00:00:00   ┆           ┆           ┆ Abiotic   │\n",
       "│            ┆           ┆       ┆            ┆   ┆ UTC        ┆           ┆           ┆ Disturban │\n",
       "│            ┆           ┆       ┆            ┆   ┆            ┆           ┆           ┆ ce (222…  │\n",
       "│ …          ┆ …         ┆ …     ┆ …          ┆ … ┆ …          ┆ …         ┆ …         ┆ …         │\n",
       "│ 1526       ┆ HRVPP     ┆ 120   ┆ 3          ┆ … ┆ null       ┆ 120       ┆ Revegetat ┆ Revegetat │\n",
       "│            ┆           ┆       ┆            ┆   ┆            ┆           ┆ ion       ┆ ion (120) │\n",
       "│ 676        ┆ HRVPP     ┆ 110   ┆ 0          ┆ … ┆ null       ┆ 110       ┆ Mature    ┆ Mature    │\n",
       "│            ┆           ┆       ┆            ┆   ┆            ┆           ┆ Forest    ┆ Forest    │\n",
       "│            ┆           ┆       ┆            ┆   ┆            ┆           ┆           ┆ (110)     │\n",
       "│ 758        ┆ Evoland   ┆ 122   ┆ erholung   ┆ … ┆ null       ┆ 120       ┆ Revegetat ┆ Canopy    │\n",
       "│            ┆           ┆       ┆            ┆   ┆            ┆           ┆ ion       ┆ closing   │\n",
       "│            ┆           ┆       ┆            ┆   ┆            ┆           ┆           ┆ (122)     │\n",
       "│ 1665       ┆ HRVPP     ┆ 110   ┆ 0          ┆ … ┆ null       ┆ 110       ┆ Mature    ┆ Mature    │\n",
       "│            ┆           ┆       ┆            ┆   ┆            ┆           ┆ Forest    ┆ Forest    │\n",
       "│            ┆           ┆       ┆            ┆   ┆            ┆           ┆           ┆ (110)     │\n",
       "│ 847        ┆ Evoland   ┆ 244   ┆ sturm-snow ┆ … ┆ 2018-08-23 ┆ 240       ┆ Abiotic   ┆ Wind      │\n",
       "│            ┆           ┆       ┆            ┆   ┆ 10:35:35   ┆           ┆           ┆ (244)     │\n",
       "│            ┆           ┆       ┆            ┆   ┆ UTC        ┆           ┆           ┆           │\n",
       "└────────────┴───────────┴───────┴────────────┴───┴────────────┴───────────┴───────────┴───────────┘"
      ]
     },
     "execution_count": 9,
     "metadata": {},
     "output_type": "execute_result"
    }
   ],
   "source": [
    "unique_events"
   ]
  },
  {
   "cell_type": "code",
   "execution_count": null,
   "id": "5b128098",
   "metadata": {},
   "outputs": [
    {
     "ename": "TypeError",
     "evalue": "Discrete value supplied to continuous scale",
     "output_type": "error",
     "traceback": [
      "\u001b[31m---------------------------------------------------------------------------\u001b[39m",
      "\u001b[31mTypeError\u001b[39m                                 Traceback (most recent call last)",
      "\u001b[36mFile \u001b[39m\u001b[32mc:\\Users\\Jonas.Viehweger\\Documents\\Projects\\2025\\disturbance-agent-data\\.venv\\Lib\\site-packages\\IPython\\core\\formatters.py:984\u001b[39m, in \u001b[36mIPythonDisplayFormatter.__call__\u001b[39m\u001b[34m(self, obj)\u001b[39m\n\u001b[32m    982\u001b[39m method = get_real_method(obj, \u001b[38;5;28mself\u001b[39m.print_method)\n\u001b[32m    983\u001b[39m \u001b[38;5;28;01mif\u001b[39;00m method \u001b[38;5;129;01mis\u001b[39;00m \u001b[38;5;129;01mnot\u001b[39;00m \u001b[38;5;28;01mNone\u001b[39;00m:\n\u001b[32m--> \u001b[39m\u001b[32m984\u001b[39m     \u001b[43mmethod\u001b[49m\u001b[43m(\u001b[49m\u001b[43m)\u001b[49m\n\u001b[32m    985\u001b[39m     \u001b[38;5;28;01mreturn\u001b[39;00m \u001b[38;5;28;01mTrue\u001b[39;00m\n",
      "\u001b[36mFile \u001b[39m\u001b[32mc:\\Users\\Jonas.Viehweger\\Documents\\Projects\\2025\\disturbance-agent-data\\.venv\\Lib\\site-packages\\plotnine\\ggplot.py:148\u001b[39m, in \u001b[36mggplot._ipython_display_\u001b[39m\u001b[34m(self)\u001b[39m\n\u001b[32m    141\u001b[39m \u001b[38;5;28;01mdef\u001b[39;00m\u001b[38;5;250m \u001b[39m\u001b[34m_ipython_display_\u001b[39m(\u001b[38;5;28mself\u001b[39m):\n\u001b[32m    142\u001b[39m \u001b[38;5;250m    \u001b[39m\u001b[33;03m\"\"\"\u001b[39;00m\n\u001b[32m    143\u001b[39m \u001b[33;03m    Display plot in the output of the cell\u001b[39;00m\n\u001b[32m    144\u001b[39m \n\u001b[32m    145\u001b[39m \u001b[33;03m    This method will always be called when a ggplot object is the\u001b[39;00m\n\u001b[32m    146\u001b[39m \u001b[33;03m    last in the cell.\u001b[39;00m\n\u001b[32m    147\u001b[39m \u001b[33;03m    \"\"\"\u001b[39;00m\n\u001b[32m--> \u001b[39m\u001b[32m148\u001b[39m     \u001b[38;5;28;43mself\u001b[39;49m\u001b[43m.\u001b[49m\u001b[43m_display\u001b[49m\u001b[43m(\u001b[49m\u001b[43m)\u001b[49m\n",
      "\u001b[36mFile \u001b[39m\u001b[32mc:\\Users\\Jonas.Viehweger\\Documents\\Projects\\2025\\disturbance-agent-data\\.venv\\Lib\\site-packages\\plotnine\\ggplot.py:189\u001b[39m, in \u001b[36mggplot._display\u001b[39m\u001b[34m(self)\u001b[39m\n\u001b[32m    186\u001b[39m     \u001b[38;5;28mself\u001b[39m.theme = \u001b[38;5;28mself\u001b[39m.theme.to_retina()\n\u001b[32m    188\u001b[39m buf = BytesIO()\n\u001b[32m--> \u001b[39m\u001b[32m189\u001b[39m \u001b[38;5;28;43mself\u001b[39;49m\u001b[43m.\u001b[49m\u001b[43msave\u001b[49m\u001b[43m(\u001b[49m\u001b[43mbuf\u001b[49m\u001b[43m,\u001b[49m\u001b[43m \u001b[49m\u001b[33;43m\"\u001b[39;49m\u001b[33;43mpng\u001b[39;49m\u001b[33;43m\"\u001b[39;49m\u001b[43m \u001b[49m\u001b[38;5;28;43;01mif\u001b[39;49;00m\u001b[43m \u001b[49m\u001b[38;5;28;43mformat\u001b[39;49m\u001b[43m \u001b[49m\u001b[43m==\u001b[49m\u001b[43m \u001b[49m\u001b[33;43m\"\u001b[39;49m\u001b[33;43mretina\u001b[39;49m\u001b[33;43m\"\u001b[39;49m\u001b[43m \u001b[49m\u001b[38;5;28;43;01melse\u001b[39;49;00m\u001b[43m \u001b[49m\u001b[38;5;28;43mformat\u001b[39;49m\u001b[43m,\u001b[49m\u001b[43m \u001b[49m\u001b[43mverbose\u001b[49m\u001b[43m=\u001b[49m\u001b[38;5;28;43;01mFalse\u001b[39;49;00m\u001b[43m)\u001b[49m\n\u001b[32m    190\u001b[39m figure_size_px = \u001b[38;5;28mself\u001b[39m.theme._figure_size_px\n\u001b[32m    191\u001b[39m display_func = get_display_function(\u001b[38;5;28mformat\u001b[39m, figure_size_px)\n",
      "\u001b[36mFile \u001b[39m\u001b[32mc:\\Users\\Jonas.Viehweger\\Documents\\Projects\\2025\\disturbance-agent-data\\.venv\\Lib\\site-packages\\plotnine\\ggplot.py:688\u001b[39m, in \u001b[36mggplot.save\u001b[39m\u001b[34m(self, filename, format, path, width, height, units, dpi, limitsize, verbose, **kwargs)\u001b[39m\n\u001b[32m    639\u001b[39m \u001b[38;5;28;01mdef\u001b[39;00m\u001b[38;5;250m \u001b[39m\u001b[34msave\u001b[39m(\n\u001b[32m    640\u001b[39m     \u001b[38;5;28mself\u001b[39m,\n\u001b[32m    641\u001b[39m     filename: Optional[\u001b[38;5;28mstr\u001b[39m | Path | BytesIO] = \u001b[38;5;28;01mNone\u001b[39;00m,\n\u001b[32m   (...)\u001b[39m\u001b[32m    650\u001b[39m     **kwargs: Any,\n\u001b[32m    651\u001b[39m ):\n\u001b[32m    652\u001b[39m \u001b[38;5;250m    \u001b[39m\u001b[33;03m\"\"\"\u001b[39;00m\n\u001b[32m    653\u001b[39m \u001b[33;03m    Save a ggplot object as an image file\u001b[39;00m\n\u001b[32m    654\u001b[39m \n\u001b[32m   (...)\u001b[39m\u001b[32m    686\u001b[39m \u001b[33;03m        Additional arguments to pass to matplotlib `savefig()`.\u001b[39;00m\n\u001b[32m    687\u001b[39m \u001b[33;03m    \"\"\"\u001b[39;00m\n\u001b[32m--> \u001b[39m\u001b[32m688\u001b[39m     sv = \u001b[38;5;28;43mself\u001b[39;49m\u001b[43m.\u001b[49m\u001b[43msave_helper\u001b[49m\u001b[43m(\u001b[49m\n\u001b[32m    689\u001b[39m \u001b[43m        \u001b[49m\u001b[43mfilename\u001b[49m\u001b[43m=\u001b[49m\u001b[43mfilename\u001b[49m\u001b[43m,\u001b[49m\n\u001b[32m    690\u001b[39m \u001b[43m        \u001b[49m\u001b[38;5;28;43mformat\u001b[39;49m\u001b[43m=\u001b[49m\u001b[38;5;28;43mformat\u001b[39;49m\u001b[43m,\u001b[49m\n\u001b[32m    691\u001b[39m \u001b[43m        \u001b[49m\u001b[43mpath\u001b[49m\u001b[43m=\u001b[49m\u001b[43mpath\u001b[49m\u001b[43m,\u001b[49m\n\u001b[32m    692\u001b[39m \u001b[43m        \u001b[49m\u001b[43mwidth\u001b[49m\u001b[43m=\u001b[49m\u001b[43mwidth\u001b[49m\u001b[43m,\u001b[49m\n\u001b[32m    693\u001b[39m \u001b[43m        \u001b[49m\u001b[43mheight\u001b[49m\u001b[43m=\u001b[49m\u001b[43mheight\u001b[49m\u001b[43m,\u001b[49m\n\u001b[32m    694\u001b[39m \u001b[43m        \u001b[49m\u001b[43munits\u001b[49m\u001b[43m=\u001b[49m\u001b[43munits\u001b[49m\u001b[43m,\u001b[49m\n\u001b[32m    695\u001b[39m \u001b[43m        \u001b[49m\u001b[43mdpi\u001b[49m\u001b[43m=\u001b[49m\u001b[43mdpi\u001b[49m\u001b[43m,\u001b[49m\n\u001b[32m    696\u001b[39m \u001b[43m        \u001b[49m\u001b[43mlimitsize\u001b[49m\u001b[43m=\u001b[49m\u001b[43mlimitsize\u001b[49m\u001b[43m,\u001b[49m\n\u001b[32m    697\u001b[39m \u001b[43m        \u001b[49m\u001b[43mverbose\u001b[49m\u001b[43m=\u001b[49m\u001b[43mverbose\u001b[49m\u001b[43m,\u001b[49m\n\u001b[32m    698\u001b[39m \u001b[43m        \u001b[49m\u001b[43m*\u001b[49m\u001b[43m*\u001b[49m\u001b[43mkwargs\u001b[49m\u001b[43m,\u001b[49m\n\u001b[32m    699\u001b[39m \u001b[43m    \u001b[49m\u001b[43m)\u001b[49m\n\u001b[32m    701\u001b[39m     \u001b[38;5;28;01mwith\u001b[39;00m plot_context(\u001b[38;5;28mself\u001b[39m).rc_context:\n\u001b[32m    702\u001b[39m         sv.figure.savefig(**sv.kwargs)\n",
      "\u001b[36mFile \u001b[39m\u001b[32mc:\\Users\\Jonas.Viehweger\\Documents\\Projects\\2025\\disturbance-agent-data\\.venv\\Lib\\site-packages\\plotnine\\ggplot.py:636\u001b[39m, in \u001b[36mggplot.save_helper\u001b[39m\u001b[34m(self, filename, format, path, width, height, units, dpi, limitsize, verbose, **kwargs)\u001b[39m\n\u001b[32m    633\u001b[39m \u001b[38;5;28;01mif\u001b[39;00m dpi \u001b[38;5;129;01mis\u001b[39;00m \u001b[38;5;129;01mnot\u001b[39;00m \u001b[38;5;28;01mNone\u001b[39;00m:\n\u001b[32m    634\u001b[39m     \u001b[38;5;28mself\u001b[39m.theme = \u001b[38;5;28mself\u001b[39m.theme + theme(dpi=dpi)\n\u001b[32m--> \u001b[39m\u001b[32m636\u001b[39m figure = \u001b[38;5;28;43mself\u001b[39;49m\u001b[43m.\u001b[49m\u001b[43mdraw\u001b[49m\u001b[43m(\u001b[49m\u001b[43mshow\u001b[49m\u001b[43m=\u001b[49m\u001b[38;5;28;43;01mFalse\u001b[39;49;00m\u001b[43m)\u001b[49m\n\u001b[32m    637\u001b[39m \u001b[38;5;28;01mreturn\u001b[39;00m mpl_save_view(figure, fig_kwargs)\n",
      "\u001b[36mFile \u001b[39m\u001b[32mc:\\Users\\Jonas.Viehweger\\Documents\\Projects\\2025\\disturbance-agent-data\\.venv\\Lib\\site-packages\\plotnine\\ggplot.py:308\u001b[39m, in \u001b[36mggplot.draw\u001b[39m\u001b[34m(self, show)\u001b[39m\n\u001b[32m    305\u001b[39m     \u001b[38;5;28mself\u001b[39m._create_figure()\n\u001b[32m    306\u001b[39m figure = \u001b[38;5;28mself\u001b[39m.figure\n\u001b[32m--> \u001b[39m\u001b[32m308\u001b[39m \u001b[38;5;28;43mself\u001b[39;49m\u001b[43m.\u001b[49m\u001b[43m_build\u001b[49m\u001b[43m(\u001b[49m\u001b[43m)\u001b[49m\n\u001b[32m    310\u001b[39m \u001b[38;5;66;03m# setup\u001b[39;00m\n\u001b[32m    311\u001b[39m \u001b[38;5;28mself\u001b[39m.axs = \u001b[38;5;28mself\u001b[39m.facet.setup(\u001b[38;5;28mself\u001b[39m)\n",
      "\u001b[36mFile \u001b[39m\u001b[32mc:\\Users\\Jonas.Viehweger\\Documents\\Projects\\2025\\disturbance-agent-data\\.venv\\Lib\\site-packages\\plotnine\\ggplot.py:381\u001b[39m, in \u001b[36mggplot._build\u001b[39m\u001b[34m(self)\u001b[39m\n\u001b[32m    377\u001b[39m scales.add_missing((\u001b[33m\"\u001b[39m\u001b[33mx\u001b[39m\u001b[33m\"\u001b[39m, \u001b[33m\"\u001b[39m\u001b[33my\u001b[39m\u001b[33m\"\u001b[39m))\n\u001b[32m    379\u001b[39m \u001b[38;5;66;03m# Map and train positions so that statistics have access\u001b[39;00m\n\u001b[32m    380\u001b[39m \u001b[38;5;66;03m# to ranges and all positions are numeric\u001b[39;00m\n\u001b[32m--> \u001b[39m\u001b[32m381\u001b[39m \u001b[43mlayout\u001b[49m\u001b[43m.\u001b[49m\u001b[43mtrain_position\u001b[49m\u001b[43m(\u001b[49m\u001b[43mlayers\u001b[49m\u001b[43m,\u001b[49m\u001b[43m \u001b[49m\u001b[43mscales\u001b[49m\u001b[43m)\u001b[49m\n\u001b[32m    382\u001b[39m layout.map_position(layers)\n\u001b[32m    384\u001b[39m \u001b[38;5;66;03m# Apply and map statistics\u001b[39;00m\n",
      "\u001b[36mFile \u001b[39m\u001b[32mc:\\Users\\Jonas.Viehweger\\Documents\\Projects\\2025\\disturbance-agent-data\\.venv\\Lib\\site-packages\\plotnine\\facets\\layout.py:108\u001b[39m, in \u001b[36mLayout.train_position\u001b[39m\u001b[34m(self, layers, scales)\u001b[39m\n\u001b[32m    105\u001b[39m     result = \u001b[38;5;28mself\u001b[39m.facet.init_scales(layout, \u001b[38;5;28;01mNone\u001b[39;00m, scales.y)\n\u001b[32m    106\u001b[39m     \u001b[38;5;28mself\u001b[39m.panel_scales_y = result.y\n\u001b[32m--> \u001b[39m\u001b[32m108\u001b[39m \u001b[38;5;28;43mself\u001b[39;49m\u001b[43m.\u001b[49m\u001b[43mfacet\u001b[49m\u001b[43m.\u001b[49m\u001b[43mtrain_position_scales\u001b[49m\u001b[43m(\u001b[49m\u001b[38;5;28;43mself\u001b[39;49m\u001b[43m,\u001b[49m\u001b[43m \u001b[49m\u001b[43mlayers\u001b[49m\u001b[43m)\u001b[49m\n",
      "\u001b[36mFile \u001b[39m\u001b[32mc:\\Users\\Jonas.Viehweger\\Documents\\Projects\\2025\\disturbance-agent-data\\.venv\\Lib\\site-packages\\plotnine\\facets\\facet.py:281\u001b[39m, in \u001b[36mfacet.train_position_scales\u001b[39m\u001b[34m(self, layout, layers)\u001b[39m\n\u001b[32m    279\u001b[39m     \u001b[38;5;66;03m# the scale index for each data point\u001b[39;00m\n\u001b[32m    280\u001b[39m     SCALE_X = _layout[\u001b[33m\"\u001b[39m\u001b[33mSCALE_X\u001b[39m\u001b[33m\"\u001b[39m].iloc[match_id].tolist()\n\u001b[32m--> \u001b[39m\u001b[32m281\u001b[39m     \u001b[43mpanel_scales_x\u001b[49m\u001b[43m.\u001b[49m\u001b[43mtrain\u001b[49m\u001b[43m(\u001b[49m\u001b[43mdata\u001b[49m\u001b[43m,\u001b[49m\u001b[43m \u001b[49m\u001b[43mx_vars\u001b[49m\u001b[43m,\u001b[49m\u001b[43m \u001b[49m\u001b[43mSCALE_X\u001b[49m\u001b[43m)\u001b[49m\n\u001b[32m    283\u001b[39m \u001b[38;5;28;01mif\u001b[39;00m panel_scales_y:\n\u001b[32m    284\u001b[39m     y_vars = \u001b[38;5;28mlist\u001b[39m(\n\u001b[32m    285\u001b[39m         \u001b[38;5;28mset\u001b[39m(panel_scales_y[\u001b[32m0\u001b[39m].aesthetics) & \u001b[38;5;28mset\u001b[39m(data.columns)\n\u001b[32m    286\u001b[39m     )\n",
      "\u001b[36mFile \u001b[39m\u001b[32mc:\\Users\\Jonas.Viehweger\\Documents\\Projects\\2025\\disturbance-agent-data\\.venv\\Lib\\site-packages\\plotnine\\scales\\scales.py:144\u001b[39m, in \u001b[36mScales.train\u001b[39m\u001b[34m(self, data, vars, idx)\u001b[39m\n\u001b[32m    142\u001b[39m \u001b[38;5;28;01mfor\u001b[39;00m i, sc \u001b[38;5;129;01min\u001b[39;00m \u001b[38;5;28menumerate\u001b[39m(\u001b[38;5;28mself\u001b[39m, start=\u001b[32m1\u001b[39m):\n\u001b[32m    143\u001b[39m     bool_idx = i == idx\n\u001b[32m--> \u001b[39m\u001b[32m144\u001b[39m     \u001b[43msc\u001b[49m\u001b[43m.\u001b[49m\u001b[43mtrain\u001b[49m\u001b[43m(\u001b[49m\u001b[43mdata\u001b[49m\u001b[43m.\u001b[49m\u001b[43mloc\u001b[49m\u001b[43m[\u001b[49m\u001b[43mbool_idx\u001b[49m\u001b[43m,\u001b[49m\u001b[43m \u001b[49m\u001b[43mcol\u001b[49m\u001b[43m]\u001b[49m\u001b[43m)\u001b[49m\n",
      "\u001b[36mFile \u001b[39m\u001b[32mc:\\Users\\Jonas.Viehweger\\Documents\\Projects\\2025\\disturbance-agent-data\\.venv\\Lib\\site-packages\\plotnine\\scales\\scale_continuous.py:210\u001b[39m, in \u001b[36mscale_continuous.train\u001b[39m\u001b[34m(self, x)\u001b[39m\n\u001b[32m    207\u001b[39m \u001b[38;5;28;01mif\u001b[39;00m \u001b[38;5;129;01mnot\u001b[39;00m \u001b[38;5;28mlen\u001b[39m(x):\n\u001b[32m    208\u001b[39m     \u001b[38;5;28;01mreturn\u001b[39;00m\n\u001b[32m--> \u001b[39m\u001b[32m210\u001b[39m \u001b[38;5;28;43mself\u001b[39;49m\u001b[43m.\u001b[49m\u001b[43m_range\u001b[49m\u001b[43m.\u001b[49m\u001b[43mtrain\u001b[49m\u001b[43m(\u001b[49m\u001b[43mx\u001b[49m\u001b[43m)\u001b[49m\n",
      "\u001b[36mFile \u001b[39m\u001b[32mc:\\Users\\Jonas.Viehweger\\Documents\\Projects\\2025\\disturbance-agent-data\\.venv\\Lib\\site-packages\\plotnine\\scales\\range.py:52\u001b[39m, in \u001b[36mRangeContinuous.train\u001b[39m\u001b[34m(self, x)\u001b[39m\n\u001b[32m     48\u001b[39m \u001b[38;5;250m\u001b[39m\u001b[33;03m\"\"\"\u001b[39;00m\n\u001b[32m     49\u001b[39m \u001b[33;03mTrain continuous range\u001b[39;00m\n\u001b[32m     50\u001b[39m \u001b[33;03m\"\"\"\u001b[39;00m\n\u001b[32m     51\u001b[39m rng = \u001b[38;5;28;01mNone\u001b[39;00m \u001b[38;5;28;01mif\u001b[39;00m \u001b[38;5;28mself\u001b[39m.is_empty() \u001b[38;5;28;01melse\u001b[39;00m \u001b[38;5;28mself\u001b[39m.range\n\u001b[32m---> \u001b[39m\u001b[32m52\u001b[39m \u001b[38;5;28mself\u001b[39m.range = \u001b[43mscale_continuous\u001b[49m\u001b[43m.\u001b[49m\u001b[43mtrain\u001b[49m\u001b[43m(\u001b[49m\u001b[43mx\u001b[49m\u001b[43m,\u001b[49m\u001b[43m \u001b[49m\u001b[43mrng\u001b[49m\u001b[43m)\u001b[49m\n",
      "\u001b[36mFile \u001b[39m\u001b[32mc:\\Users\\Jonas.Viehweger\\Documents\\Projects\\2025\\disturbance-agent-data\\.venv\\Lib\\site-packages\\mizani\\scale.py:134\u001b[39m, in \u001b[36mscale_continuous.train\u001b[39m\u001b[34m(cls, new_data, old)\u001b[39m\n\u001b[32m    131\u001b[39m new_data = np.asarray(new_data)\n\u001b[32m    133\u001b[39m \u001b[38;5;28;01mif\u001b[39;00m new_data.dtype.kind \u001b[38;5;129;01mnot\u001b[39;00m \u001b[38;5;129;01min\u001b[39;00m CONTINUOUS_KINDS:\n\u001b[32m--> \u001b[39m\u001b[32m134\u001b[39m     \u001b[38;5;28;01mraise\u001b[39;00m \u001b[38;5;167;01mTypeError\u001b[39;00m(\u001b[33m\"\u001b[39m\u001b[33mDiscrete value supplied to continuous scale\u001b[39m\u001b[33m\"\u001b[39m)\n\u001b[32m    136\u001b[39m new_data = np.hstack([new_data, old])\n\u001b[32m    137\u001b[39m \u001b[38;5;28;01mreturn\u001b[39;00m min_max(new_data, na_rm=\u001b[38;5;28;01mTrue\u001b[39;00m, finite=\u001b[38;5;28;01mTrue\u001b[39;00m)\n",
      "\u001b[31mTypeError\u001b[39m: Discrete value supplied to continuous scale"
     ]
    },
    {
     "data": {
      "text/plain": [
       "<plotnine.ggplot.ggplot at 0x2100ea1bb90>"
      ]
     },
     "execution_count": 11,
     "metadata": {},
     "output_type": "execute_result"
    }
   ],
   "source": [
    "from plotnine import ggplot, aes, geom_density\n",
    "\n",
    "(\n",
    "    ggplot(\n",
    "        unique_events.with_columns(pl.col.start).filter(\n",
    "            ~pl.col.biggroup.is_in([\"Mature Forest\", \"Revegetation\"])\n",
    "        ),\n",
    "        aes(x=\"start\", color=\"biggroup\", fill=\"biggroup\"),\n",
    "    )\n",
    "    + geom_density(alpha=0.1, show_legend=False)\n",
    "    # + scale_x_continuous(breaks=range(2015, 2026))\n",
    "    + facet_grid(rows=\"biggroup\")\n",
    "    + theme(\n",
    "        strip_text_y=element_text(angle=0),  # change facet text angle\n",
    "    )\n",
    "    + labs(x=\"Start year of unique segments\", y=\"Count of events by start year\")\n",
    ")"
   ]
  },
  {
   "cell_type": "code",
   "execution_count": 10,
   "id": "ba814608",
   "metadata": {},
   "outputs": [
    {
     "name": "stdout",
     "output_type": "stream",
     "text": [
      "The autoreload extension is already loaded. To reload it, use:\n",
      "  %reload_ext autoreload\n"
     ]
    }
   ],
   "source": [
    "from classification.dataloader import ZarrIterableDataset\n",
    "import numpy as np\n",
    "\n",
    "%load_ext autoreload\n",
    "%autoreload 2"
   ]
  },
  {
   "cell_type": "code",
   "execution_count": null,
   "id": "837aae6f",
   "metadata": {},
   "outputs": [
    {
     "data": {
      "text/html": [
       "<div><style>\n",
       ".dataframe > thead > tr,\n",
       ".dataframe > tbody > tr {\n",
       "  text-align: right;\n",
       "  white-space: pre-wrap;\n",
       "}\n",
       "</style>\n",
       "<small>shape: (209, 8)</small><table border=\"1\" class=\"dataframe\"><thead><tr><th>original_sample_id</th><th>dataset</th><th>label</th><th>original_label</th><th>start</th><th>end</th><th>sample_id</th><th>start_next_label</th></tr><tr><td>i64</td><td>str</td><td>str</td><td>str</td><td>datetime[ms, UTC]</td><td>datetime[ms, UTC]</td><td>u64</td><td>datetime[ms, UTC]</td></tr></thead><tbody><tr><td>15989</td><td>&quot;Windthrow&quot;</td><td>&quot;110&quot;</td><td>&quot;0&quot;</td><td>2016-11-20 00:00:00 UTC</td><td>2021-11-14 00:00:00 UTC</td><td>4251</td><td>2022-01-20 00:00:00 UTC</td></tr><tr><td>1559</td><td>&quot;HRVPP&quot;</td><td>&quot;110&quot;</td><td>&quot;0&quot;</td><td>2016-04-01 00:00:00 UTC</td><td>2019-11-16 00:00:00 UTC</td><td>2564</td><td>2020-03-16 00:00:00 UTC</td></tr><tr><td>5904</td><td>&quot;Windthrow&quot;</td><td>&quot;110&quot;</td><td>&quot;0&quot;</td><td>2016-12-31 00:00:00 UTC</td><td>2017-12-18 00:00:00 UTC</td><td>3946</td><td>2018-02-14 00:00:00 UTC</td></tr><tr><td>675</td><td>&quot;Windthrow&quot;</td><td>&quot;110&quot;</td><td>&quot;0&quot;</td><td>2016-11-22 00:00:00 UTC</td><td>2017-07-15 00:00:00 UTC</td><td>3811</td><td>2017-08-24 00:00:00 UTC</td></tr><tr><td>1925</td><td>&quot;HRVPP&quot;</td><td>&quot;110&quot;</td><td>&quot;0&quot;</td><td>2016-05-01 00:00:00 UTC</td><td>2016-10-01 00:00:00 UTC</td><td>2930</td><td>2017-03-01 00:00:00 UTC</td></tr><tr><td>&hellip;</td><td>&hellip;</td><td>&hellip;</td><td>&hellip;</td><td>&hellip;</td><td>&hellip;</td><td>&hellip;</td><td>&hellip;</td></tr><tr><td>2039</td><td>&quot;Windthrow&quot;</td><td>&quot;110&quot;</td><td>&quot;0&quot;</td><td>2016-11-18 00:00:00 UTC</td><td>2017-09-29 00:00:00 UTC</td><td>3881</td><td>2017-10-19 00:00:00 UTC</td></tr><tr><td>9504</td><td>&quot;Windthrow&quot;</td><td>&quot;110&quot;</td><td>&quot;0&quot;</td><td>2016-11-15 00:00:00 UTC</td><td>2018-10-21 00:00:00 UTC</td><td>4048</td><td>2018-10-31 00:00:00 UTC</td></tr><tr><td>3144</td><td>&quot;Windthrow&quot;</td><td>&quot;110&quot;</td><td>&quot;0&quot;</td><td>2016-12-02 00:00:00 UTC</td><td>2018-10-21 00:00:00 UTC</td><td>4074</td><td>2018-11-12 00:00:00 UTC</td></tr><tr><td>607</td><td>&quot;HRVPP&quot;</td><td>&quot;110&quot;</td><td>&quot;0&quot;</td><td>2016-05-16 00:00:00 UTC</td><td>2022-07-16 00:00:00 UTC</td><td>1612</td><td>2023-02-16 00:00:00 UTC</td></tr><tr><td>11936</td><td>&quot;Windthrow&quot;</td><td>&quot;110&quot;</td><td>&quot;0&quot;</td><td>2016-11-12 00:00:00 UTC</td><td>2018-10-21 00:00:00 UTC</td><td>4086</td><td>2018-10-31 00:00:00 UTC</td></tr></tbody></table></div>"
      ],
      "text/plain": [
       "shape: (209, 8)\n",
       "┌─────────────┬───────────┬───────┬─────────────┬────────────┬────────────┬───────────┬────────────┐\n",
       "│ original_sa ┆ dataset   ┆ label ┆ original_la ┆ start      ┆ end        ┆ sample_id ┆ start_next │\n",
       "│ mple_id     ┆ ---       ┆ ---   ┆ bel         ┆ ---        ┆ ---        ┆ ---       ┆ _label     │\n",
       "│ ---         ┆ str       ┆ str   ┆ ---         ┆ datetime[m ┆ datetime[m ┆ u64       ┆ ---        │\n",
       "│ i64         ┆           ┆       ┆ str         ┆ s, UTC]    ┆ s, UTC]    ┆           ┆ datetime[m │\n",
       "│             ┆           ┆       ┆             ┆            ┆            ┆           ┆ s, UTC]    │\n",
       "╞═════════════╪═══════════╪═══════╪═════════════╪════════════╪════════════╪═══════════╪════════════╡\n",
       "│ 15989       ┆ Windthrow ┆ 110   ┆ 0           ┆ 2016-11-20 ┆ 2021-11-14 ┆ 4251      ┆ 2022-01-20 │\n",
       "│             ┆           ┆       ┆             ┆ 00:00:00   ┆ 00:00:00   ┆           ┆ 00:00:00   │\n",
       "│             ┆           ┆       ┆             ┆ UTC        ┆ UTC        ┆           ┆ UTC        │\n",
       "│ 1559        ┆ HRVPP     ┆ 110   ┆ 0           ┆ 2016-04-01 ┆ 2019-11-16 ┆ 2564      ┆ 2020-03-16 │\n",
       "│             ┆           ┆       ┆             ┆ 00:00:00   ┆ 00:00:00   ┆           ┆ 00:00:00   │\n",
       "│             ┆           ┆       ┆             ┆ UTC        ┆ UTC        ┆           ┆ UTC        │\n",
       "│ 5904        ┆ Windthrow ┆ 110   ┆ 0           ┆ 2016-12-31 ┆ 2017-12-18 ┆ 3946      ┆ 2018-02-14 │\n",
       "│             ┆           ┆       ┆             ┆ 00:00:00   ┆ 00:00:00   ┆           ┆ 00:00:00   │\n",
       "│             ┆           ┆       ┆             ┆ UTC        ┆ UTC        ┆           ┆ UTC        │\n",
       "│ 675         ┆ Windthrow ┆ 110   ┆ 0           ┆ 2016-11-22 ┆ 2017-07-15 ┆ 3811      ┆ 2017-08-24 │\n",
       "│             ┆           ┆       ┆             ┆ 00:00:00   ┆ 00:00:00   ┆           ┆ 00:00:00   │\n",
       "│             ┆           ┆       ┆             ┆ UTC        ┆ UTC        ┆           ┆ UTC        │\n",
       "│ 1925        ┆ HRVPP     ┆ 110   ┆ 0           ┆ 2016-05-01 ┆ 2016-10-01 ┆ 2930      ┆ 2017-03-01 │\n",
       "│             ┆           ┆       ┆             ┆ 00:00:00   ┆ 00:00:00   ┆           ┆ 00:00:00   │\n",
       "│             ┆           ┆       ┆             ┆ UTC        ┆ UTC        ┆           ┆ UTC        │\n",
       "│ …           ┆ …         ┆ …     ┆ …           ┆ …          ┆ …          ┆ …         ┆ …          │\n",
       "│ 2039        ┆ Windthrow ┆ 110   ┆ 0           ┆ 2016-11-18 ┆ 2017-09-29 ┆ 3881      ┆ 2017-10-19 │\n",
       "│             ┆           ┆       ┆             ┆ 00:00:00   ┆ 00:00:00   ┆           ┆ 00:00:00   │\n",
       "│             ┆           ┆       ┆             ┆ UTC        ┆ UTC        ┆           ┆ UTC        │\n",
       "│ 9504        ┆ Windthrow ┆ 110   ┆ 0           ┆ 2016-11-15 ┆ 2018-10-21 ┆ 4048      ┆ 2018-10-31 │\n",
       "│             ┆           ┆       ┆             ┆ 00:00:00   ┆ 00:00:00   ┆           ┆ 00:00:00   │\n",
       "│             ┆           ┆       ┆             ┆ UTC        ┆ UTC        ┆           ┆ UTC        │\n",
       "│ 3144        ┆ Windthrow ┆ 110   ┆ 0           ┆ 2016-12-02 ┆ 2018-10-21 ┆ 4074      ┆ 2018-11-12 │\n",
       "│             ┆           ┆       ┆             ┆ 00:00:00   ┆ 00:00:00   ┆           ┆ 00:00:00   │\n",
       "│             ┆           ┆       ┆             ┆ UTC        ┆ UTC        ┆           ┆ UTC        │\n",
       "│ 607         ┆ HRVPP     ┆ 110   ┆ 0           ┆ 2016-05-16 ┆ 2022-07-16 ┆ 1612      ┆ 2023-02-16 │\n",
       "│             ┆           ┆       ┆             ┆ 00:00:00   ┆ 00:00:00   ┆           ┆ 00:00:00   │\n",
       "│             ┆           ┆       ┆             ┆ UTC        ┆ UTC        ┆           ┆ UTC        │\n",
       "│ 11936       ┆ Windthrow ┆ 110   ┆ 0           ┆ 2016-11-12 ┆ 2018-10-21 ┆ 4086      ┆ 2018-10-31 │\n",
       "│             ┆           ┆       ┆             ┆ 00:00:00   ┆ 00:00:00   ┆           ┆ 00:00:00   │\n",
       "│             ┆           ┆       ┆             ┆ UTC        ┆ UTC        ┆           ┆ UTC        │\n",
       "└─────────────┴───────────┴───────┴─────────────┴────────────┴────────────┴───────────┴────────────┘"
      ]
     },
     "execution_count": 100,
     "metadata": {},
     "output_type": "execute_result"
    }
   ],
   "source": [
    "labels.filter(pl.col.label.len().over(\"sample_id\") > 3).unique(\"sample_id\")"
   ]
  },
  {
   "cell_type": "code",
   "execution_count": 108,
   "id": "5ffabc67",
   "metadata": {},
   "outputs": [
    {
     "data": {
      "text/html": [
       "<div><style>\n",
       ".dataframe > thead > tr,\n",
       ".dataframe > tbody > tr {\n",
       "  text-align: right;\n",
       "  white-space: pre-wrap;\n",
       "}\n",
       "</style>\n",
       "<small>shape: (1, 8)</small><table border=\"1\" class=\"dataframe\"><thead><tr><th>original_sample_id</th><th>dataset</th><th>label</th><th>original_label</th><th>start</th><th>end</th><th>sample_id</th><th>start_next_label</th></tr><tr><td>i64</td><td>str</td><td>str</td><td>str</td><td>datetime[ms, UTC]</td><td>datetime[ms, UTC]</td><td>u64</td><td>datetime[ms, UTC]</td></tr></thead><tbody><tr><td>13936</td><td>&quot;Windthrow&quot;</td><td>&quot;212&quot;</td><td>&quot;6&quot;</td><td>2023-04-09 00:00:00 UTC</td><td>2023-04-09 23:59:59 UTC</td><td>4293</td><td>2023-08-17 00:00:00 UTC</td></tr></tbody></table></div>"
      ],
      "text/plain": [
       "shape: (1, 8)\n",
       "┌─────────────┬───────────┬───────┬─────────────┬────────────┬────────────┬───────────┬────────────┐\n",
       "│ original_sa ┆ dataset   ┆ label ┆ original_la ┆ start      ┆ end        ┆ sample_id ┆ start_next │\n",
       "│ mple_id     ┆ ---       ┆ ---   ┆ bel         ┆ ---        ┆ ---        ┆ ---       ┆ _label     │\n",
       "│ ---         ┆ str       ┆ str   ┆ ---         ┆ datetime[m ┆ datetime[m ┆ u64       ┆ ---        │\n",
       "│ i64         ┆           ┆       ┆ str         ┆ s, UTC]    ┆ s, UTC]    ┆           ┆ datetime[m │\n",
       "│             ┆           ┆       ┆             ┆            ┆            ┆           ┆ s, UTC]    │\n",
       "╞═════════════╪═══════════╪═══════╪═════════════╪════════════╪════════════╪═══════════╪════════════╡\n",
       "│ 13936       ┆ Windthrow ┆ 212   ┆ 6           ┆ 2023-04-09 ┆ 2023-04-09 ┆ 4293      ┆ 2023-08-17 │\n",
       "│             ┆           ┆       ┆             ┆ 00:00:00   ┆ 23:59:59   ┆           ┆ 00:00:00   │\n",
       "│             ┆           ┆       ┆             ┆ UTC        ┆ UTC        ┆           ┆ UTC        │\n",
       "└─────────────┴───────────┴───────┴─────────────┴────────────┴────────────┴───────────┴────────────┘"
      ]
     },
     "execution_count": 108,
     "metadata": {},
     "output_type": "execute_result"
    }
   ],
   "source": [
    "import datetime as dt\n",
    "\n",
    "labels.filter(pl.col.label.len().over(\"sample_id\") > 4).filter(\n",
    "    pl.col.start > dt.date(year=2023, month=4, day=1), label=\"212\"\n",
    ").unique(\"sample_id\")"
   ]
  },
  {
   "cell_type": "code",
   "execution_count": 109,
   "id": "813bff9b",
   "metadata": {},
   "outputs": [
    {
     "data": {
      "text/html": [
       "<div><style>\n",
       ".dataframe > thead > tr,\n",
       ".dataframe > tbody > tr {\n",
       "  text-align: right;\n",
       "  white-space: pre-wrap;\n",
       "}\n",
       "</style>\n",
       "<small>shape: (5, 8)</small><table border=\"1\" class=\"dataframe\"><thead><tr><th>original_sample_id</th><th>dataset</th><th>label</th><th>original_label</th><th>start</th><th>end</th><th>sample_id</th><th>start_next_label</th></tr><tr><td>i64</td><td>str</td><td>str</td><td>str</td><td>datetime[ms, UTC]</td><td>datetime[ms, UTC]</td><td>u64</td><td>datetime[ms, UTC]</td></tr></thead><tbody><tr><td>13936</td><td>&quot;Windthrow&quot;</td><td>&quot;110&quot;</td><td>&quot;0&quot;</td><td>2017-03-23 00:00:00 UTC</td><td>2022-12-17 00:00:00 UTC</td><td>4293</td><td>2023-04-09 00:00:00 UTC</td></tr><tr><td>13936</td><td>&quot;Windthrow&quot;</td><td>&quot;212&quot;</td><td>&quot;6&quot;</td><td>2023-04-09 00:00:00 UTC</td><td>2023-04-09 23:59:59 UTC</td><td>4293</td><td>2023-08-17 00:00:00 UTC</td></tr><tr><td>13936</td><td>&quot;Windthrow&quot;</td><td>&quot;244&quot;</td><td>&quot;7&quot;</td><td>2023-08-17 00:00:00 UTC</td><td>2023-08-17 23:59:59 UTC</td><td>4293</td><td>2024-03-06 00:00:00 UTC</td></tr><tr><td>13936</td><td>&quot;Windthrow&quot;</td><td>&quot;222&quot;</td><td>&quot;a&quot;</td><td>2024-03-06 00:00:00 UTC</td><td>2024-03-06 23:59:59 UTC</td><td>4293</td><td>2024-04-28 00:00:00 UTC</td></tr><tr><td>13936</td><td>&quot;Windthrow&quot;</td><td>&quot;123&quot;</td><td>&quot;4&quot;</td><td>2024-04-28 00:00:00 UTC</td><td>2024-12-04 00:00:00 UTC</td><td>4293</td><td>null</td></tr></tbody></table></div>"
      ],
      "text/plain": [
       "shape: (5, 8)\n",
       "┌─────────────┬───────────┬───────┬─────────────┬────────────┬────────────┬───────────┬────────────┐\n",
       "│ original_sa ┆ dataset   ┆ label ┆ original_la ┆ start      ┆ end        ┆ sample_id ┆ start_next │\n",
       "│ mple_id     ┆ ---       ┆ ---   ┆ bel         ┆ ---        ┆ ---        ┆ ---       ┆ _label     │\n",
       "│ ---         ┆ str       ┆ str   ┆ ---         ┆ datetime[m ┆ datetime[m ┆ u64       ┆ ---        │\n",
       "│ i64         ┆           ┆       ┆ str         ┆ s, UTC]    ┆ s, UTC]    ┆           ┆ datetime[m │\n",
       "│             ┆           ┆       ┆             ┆            ┆            ┆           ┆ s, UTC]    │\n",
       "╞═════════════╪═══════════╪═══════╪═════════════╪════════════╪════════════╪═══════════╪════════════╡\n",
       "│ 13936       ┆ Windthrow ┆ 110   ┆ 0           ┆ 2017-03-23 ┆ 2022-12-17 ┆ 4293      ┆ 2023-04-09 │\n",
       "│             ┆           ┆       ┆             ┆ 00:00:00   ┆ 00:00:00   ┆           ┆ 00:00:00   │\n",
       "│             ┆           ┆       ┆             ┆ UTC        ┆ UTC        ┆           ┆ UTC        │\n",
       "│ 13936       ┆ Windthrow ┆ 212   ┆ 6           ┆ 2023-04-09 ┆ 2023-04-09 ┆ 4293      ┆ 2023-08-17 │\n",
       "│             ┆           ┆       ┆             ┆ 00:00:00   ┆ 23:59:59   ┆           ┆ 00:00:00   │\n",
       "│             ┆           ┆       ┆             ┆ UTC        ┆ UTC        ┆           ┆ UTC        │\n",
       "│ 13936       ┆ Windthrow ┆ 244   ┆ 7           ┆ 2023-08-17 ┆ 2023-08-17 ┆ 4293      ┆ 2024-03-06 │\n",
       "│             ┆           ┆       ┆             ┆ 00:00:00   ┆ 23:59:59   ┆           ┆ 00:00:00   │\n",
       "│             ┆           ┆       ┆             ┆ UTC        ┆ UTC        ┆           ┆ UTC        │\n",
       "│ 13936       ┆ Windthrow ┆ 222   ┆ a           ┆ 2024-03-06 ┆ 2024-03-06 ┆ 4293      ┆ 2024-04-28 │\n",
       "│             ┆           ┆       ┆             ┆ 00:00:00   ┆ 23:59:59   ┆           ┆ 00:00:00   │\n",
       "│             ┆           ┆       ┆             ┆ UTC        ┆ UTC        ┆           ┆ UTC        │\n",
       "│ 13936       ┆ Windthrow ┆ 123   ┆ 4           ┆ 2024-04-28 ┆ 2024-12-04 ┆ 4293      ┆ null       │\n",
       "│             ┆           ┆       ┆             ┆ 00:00:00   ┆ 00:00:00   ┆           ┆            │\n",
       "│             ┆           ┆       ┆             ┆ UTC        ┆ UTC        ┆           ┆            │\n",
       "└─────────────┴───────────┴───────┴─────────────┴────────────┴────────────┴───────────┴────────────┘"
      ]
     },
     "execution_count": 109,
     "metadata": {},
     "output_type": "execute_result"
    }
   ],
   "source": [
    "# sample_id = 3834  # good but a bit few mature samples, not good looking recovery\n",
    "# sample_id = 2503\n",
    "sample_id = 4293\n",
    "labels.filter(sample_id=sample_id)"
   ]
  },
  {
   "cell_type": "code",
   "execution_count": 110,
   "id": "0d50113e",
   "metadata": {},
   "outputs": [],
   "source": [
    "segments = labels.filter(sample_id=sample_id)\n",
    "\n",
    "ds = ZarrIterableDataset(\n",
    "    zarr_dir=\"data/chips\",\n",
    "    segment_sample=None,\n",
    "    max_days_after_event=100000,\n",
    "    chip_size=32,\n",
    ")\n",
    "stacked_data, labels_arr, timestamps = ds._open_zarr(sample_id, return_timestamps=True)\n",
    "py_timestamps = [timestamp.date() for timestamp in timestamps]\n",
    "ndmi = (\n",
    "    stacked_data[:, 7, 16, 16].astype(np.int32)\n",
    "    - stacked_data[:, 8, 16, 16].astype(np.int32)\n",
    ") / (stacked_data[:, 7, 16, 16] + stacked_data[:, 8, 16, 16])\n",
    "fully_segmented = segments.with_columns(pl.max_horizontal(\"start_next_label\", \"end\"))"
   ]
  },
  {
   "cell_type": "code",
   "execution_count": 125,
   "id": "0fc2edec",
   "metadata": {},
   "outputs": [
    {
     "data": {
      "application/vnd.plotly.v1+json": {
       "config": {
        "plotlyServerURL": "https://plot.ly"
       },
       "data": [
        {
         "type": "image",
         "xaxis": "x",
         "yaxis": "y",
         "z": {
          "bdata": "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",
          "dtype": "u1",
          "shape": "32, 32, 3"
         }
        },
        {
         "type": "image",
         "xaxis": "x2",
         "yaxis": "y2",
         "z": {
          "bdata": "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",
          "dtype": "u1",
          "shape": "32, 32, 3"
         }
        },
        {
         "type": "image",
         "xaxis": "x3",
         "yaxis": "y3",
         "z": {
          "bdata": "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",
          "dtype": "u1",
          "shape": "32, 32, 3"
         }
        },
        {
         "type": "image",
         "xaxis": "x4",
         "yaxis": "y4",
         "z": {
          "bdata": "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",
          "dtype": "u1",
          "shape": "32, 32, 3"
         }
        },
        {
         "type": "image",
         "xaxis": "x5",
         "yaxis": "y5",
         "z": {
          "bdata": "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",
          "dtype": "u1",
          "shape": "32, 32, 3"
         }
        },
        {
         "mode": "lines",
         "name": "NDMI",
         "type": "scatter",
         "x": [
          "2017-05-30",
          "2017-07-06",
          "2017-07-19",
          "2017-08-05",
          "2017-08-08",
          "2017-09-24",
          "2017-09-27",
          "2018-03-16",
          "2018-03-28",
          "2018-04-20",
          "2018-04-30",
          "2018-05-02",
          "2018-05-05",
          "2018-05-07",
          "2018-05-10",
          "2018-05-12",
          "2018-05-20",
          "2018-05-25",
          "2018-05-30",
          "2018-06-01",
          "2018-06-14",
          "2018-06-21",
          "2018-07-04",
          "2018-07-16",
          "2018-07-31",
          "2018-08-10",
          "2018-08-23",
          "2018-09-14",
          "2018-09-19",
          "2018-09-27",
          "2018-10-02",
          "2018-10-09",
          "2018-10-12",
          "2018-10-14",
          "2018-10-17",
          "2018-10-19",
          "2019-03-23",
          "2019-04-02",
          "2019-04-25",
          "2019-04-30",
          "2019-05-15",
          "2019-05-17",
          "2019-05-20",
          "2019-05-22",
          "2019-05-30",
          "2019-06-01",
          "2019-06-04",
          "2019-06-06",
          "2019-06-09",
          "2019-06-21",
          "2019-07-01",
          "2019-07-21",
          "2019-07-29",
          "2019-08-10",
          "2019-08-15",
          "2019-08-18",
          "2019-08-23",
          "2019-08-25",
          "2019-08-28",
          "2019-09-02",
          "2019-09-04",
          "2019-09-07",
          "2019-09-09",
          "2019-09-27",
          "2019-10-29",
          "2020-02-04",
          "2020-02-06",
          "2020-03-15",
          "2020-03-25",
          "2020-03-27",
          "2020-03-30",
          "2020-04-04",
          "2020-04-11",
          "2020-05-04",
          "2020-05-26",
          "2020-05-31",
          "2020-06-08",
          "2020-06-13",
          "2020-06-18",
          "2020-06-28",
          "2020-07-08",
          "2020-07-13",
          "2020-07-18",
          "2020-07-20",
          "2020-07-23",
          "2020-08-14",
          "2020-08-17",
          "2020-08-24",
          "2020-09-06",
          "2020-09-23",
          "2020-09-26",
          "2020-10-01",
          "2020-10-16",
          "2020-11-20",
          "2021-02-18",
          "2021-03-17",
          "2021-04-19",
          "2021-05-01",
          "2021-05-04",
          "2021-05-09",
          "2021-05-11",
          "2021-05-31",
          "2021-06-05",
          "2021-06-10",
          "2021-06-18",
          "2021-06-20",
          "2021-06-23",
          "2021-06-30",
          "2021-07-13",
          "2021-07-15",
          "2021-07-18",
          "2021-07-23",
          "2021-09-01",
          "2021-09-06",
          "2021-09-18",
          "2021-10-06",
          "2021-10-08",
          "2021-10-11",
          "2021-10-16",
          "2021-10-31",
          "2021-11-02",
          "2021-12-25",
          "2022-01-29",
          "2022-03-02",
          "2022-03-05",
          "2022-03-12",
          "2022-03-22",
          "2022-03-25",
          "2022-03-27",
          "2022-03-30",
          "2022-04-06",
          "2022-04-19",
          "2022-04-21",
          "2022-04-29",
          "2022-05-16",
          "2022-06-05",
          "2022-06-10",
          "2022-06-15",
          "2022-06-23",
          "2022-07-10",
          "2022-07-13",
          "2022-07-20",
          "2022-07-23",
          "2022-08-07",
          "2022-08-12",
          "2022-08-14",
          "2022-08-24",
          "2022-08-27",
          "2022-09-01",
          "2022-09-03",
          "2022-09-26",
          "2022-10-08",
          "2022-10-13",
          "2022-10-31",
          "2022-12-17",
          "2023-04-11",
          "2023-04-24",
          "2023-05-04",
          "2023-05-06",
          "2023-05-14",
          "2023-05-19",
          "2023-05-21",
          "2023-05-24",
          "2023-05-26",
          "2023-06-08",
          "2023-06-13",
          "2023-06-15",
          "2023-06-20",
          "2023-06-23",
          "2023-06-28",
          "2023-06-30",
          "2023-07-08",
          "2023-07-15",
          "2023-07-28",
          "2023-08-04",
          "2023-08-07",
          "2023-08-17",
          "2023-09-06",
          "2023-09-13",
          "2023-09-21",
          "2023-09-26",
          "2023-09-28",
          "2023-10-06",
          "2023-10-13",
          "2023-11-05",
          "2023-12-05",
          "2024-03-04",
          "2024-03-06",
          "2024-03-11",
          "2024-03-31",
          "2024-04-28",
          "2024-05-03",
          "2024-05-20",
          "2024-05-23",
          "2024-05-25",
          "2024-05-28",
          "2024-05-30",
          "2024-06-04",
          "2024-06-27",
          "2024-07-22",
          "2024-08-03",
          "2024-08-16",
          "2024-08-18",
          "2024-08-21",
          "2024-08-26",
          "2024-08-28",
          "2024-09-05",
          "2024-09-07",
          "2024-09-10",
          "2024-09-17",
          "2024-09-20",
          "2024-09-22",
          "2024-10-05",
          "2024-10-12",
          "2024-10-15",
          "2024-10-17",
          "2024-10-20"
         ],
         "xaxis": "x6",
         "y": {
          "bdata": "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",
          "dtype": "f8"
         },
         "yaxis": "y6"
        }
       ],
       "layout": {
        "annotations": [
         {
          "font": {
           "size": 10
          },
          "showarrow": false,
          "text": "label: 110<br>date: 2017-05-30",
          "x": 0.092,
          "xanchor": "center",
          "xref": "paper",
          "y": 1,
          "yanchor": "bottom",
          "yref": "paper"
         },
         {
          "font": {
           "size": 10
          },
          "showarrow": false,
          "text": "label: 212<br>date: 2023-04-11",
          "x": 0.296,
          "xanchor": "center",
          "xref": "paper",
          "y": 1,
          "yanchor": "bottom",
          "yref": "paper"
         },
         {
          "font": {
           "size": 10
          },
          "showarrow": false,
          "text": "label: 244<br>date: 2023-08-17",
          "x": 0.5,
          "xanchor": "center",
          "xref": "paper",
          "y": 1,
          "yanchor": "bottom",
          "yref": "paper"
         },
         {
          "font": {
           "size": 10
          },
          "showarrow": false,
          "text": "label: 222<br>date: 2024-03-06",
          "x": 0.7040000000000001,
          "xanchor": "center",
          "xref": "paper",
          "y": 1,
          "yanchor": "bottom",
          "yref": "paper"
         },
         {
          "font": {
           "size": 10
          },
          "showarrow": false,
          "text": "label: 123<br>date: 2024-04-28",
          "x": 0.908,
          "xanchor": "center",
          "xref": "paper",
          "y": 1,
          "yanchor": "bottom",
          "yref": "paper"
         }
        ],
        "height": 800,
        "margin": {
         "b": 20,
         "l": 20,
         "r": 20,
         "t": 60
        },
        "shapes": [
         {
          "fillcolor": "#F58518",
          "layer": "below",
          "line": {
           "width": 0
          },
          "opacity": 0.2,
          "type": "rect",
          "x0": "2017-03-23T00:00:00+00:00",
          "x1": "2023-04-09T00:00:00+00:00",
          "xref": "x6",
          "y0": 0,
          "y1": 1,
          "yref": "y6 domain"
         },
         {
          "fillcolor": "#72B7B2",
          "layer": "below",
          "line": {
           "width": 0
          },
          "opacity": 0.2,
          "type": "rect",
          "x0": "2023-04-09T00:00:00+00:00",
          "x1": "2023-08-17T00:00:00+00:00",
          "xref": "x6",
          "y0": 0,
          "y1": 1,
          "yref": "y6 domain"
         },
         {
          "fillcolor": "#54A24B",
          "layer": "below",
          "line": {
           "width": 0
          },
          "opacity": 0.2,
          "type": "rect",
          "x0": "2023-08-17T00:00:00+00:00",
          "x1": "2024-03-06T00:00:00+00:00",
          "xref": "x6",
          "y0": 0,
          "y1": 1,
          "yref": "y6 domain"
         },
         {
          "fillcolor": "#4C78A8",
          "layer": "below",
          "line": {
           "width": 0
          },
          "opacity": 0.2,
          "type": "rect",
          "x0": "2024-03-06T00:00:00+00:00",
          "x1": "2024-04-28T00:00:00+00:00",
          "xref": "x6",
          "y0": 0,
          "y1": 1,
          "yref": "y6 domain"
         },
         {
          "fillcolor": "#E45756",
          "layer": "below",
          "line": {
           "width": 0
          },
          "opacity": 0.2,
          "type": "rect",
          "x0": "2024-04-28T00:00:00+00:00",
          "x1": "2024-12-04T00:00:00+00:00",
          "xref": "x6",
          "y0": 0,
          "y1": 1,
          "yref": "y6 domain"
         }
        ],
        "showlegend": false,
        "template": {
         "data": {
          "bar": [
           {
            "error_x": {
             "color": "#2a3f5f"
            },
            "error_y": {
             "color": "#2a3f5f"
            },
            "marker": {
             "line": {
              "color": "#E5ECF6",
              "width": 0.5
             },
             "pattern": {
              "fillmode": "overlay",
              "size": 10,
              "solidity": 0.2
             }
            },
            "type": "bar"
           }
          ],
          "barpolar": [
           {
            "marker": {
             "line": {
              "color": "#E5ECF6",
              "width": 0.5
             },
             "pattern": {
              "fillmode": "overlay",
              "size": 10,
              "solidity": 0.2
             }
            },
            "type": "barpolar"
           }
          ],
          "carpet": [
           {
            "aaxis": {
             "endlinecolor": "#2a3f5f",
             "gridcolor": "white",
             "linecolor": "white",
             "minorgridcolor": "white",
             "startlinecolor": "#2a3f5f"
            },
            "baxis": {
             "endlinecolor": "#2a3f5f",
             "gridcolor": "white",
             "linecolor": "white",
             "minorgridcolor": "white",
             "startlinecolor": "#2a3f5f"
            },
            "type": "carpet"
           }
          ],
          "choropleth": [
           {
            "colorbar": {
             "outlinewidth": 0,
             "ticks": ""
            },
            "type": "choropleth"
           }
          ],
          "contour": [
           {
            "colorbar": {
             "outlinewidth": 0,
             "ticks": ""
            },
            "colorscale": [
             [
              0,
              "#0d0887"
             ],
             [
              0.1111111111111111,
              "#46039f"
             ],
             [
              0.2222222222222222,
              "#7201a8"
             ],
             [
              0.3333333333333333,
              "#9c179e"
             ],
             [
              0.4444444444444444,
              "#bd3786"
             ],
             [
              0.5555555555555556,
              "#d8576b"
             ],
             [
              0.6666666666666666,
              "#ed7953"
             ],
             [
              0.7777777777777778,
              "#fb9f3a"
             ],
             [
              0.8888888888888888,
              "#fdca26"
             ],
             [
              1,
              "#f0f921"
             ]
            ],
            "type": "contour"
           }
          ],
          "contourcarpet": [
           {
            "colorbar": {
             "outlinewidth": 0,
             "ticks": ""
            },
            "type": "contourcarpet"
           }
          ],
          "heatmap": [
           {
            "colorbar": {
             "outlinewidth": 0,
             "ticks": ""
            },
            "colorscale": [
             [
              0,
              "#0d0887"
             ],
             [
              0.1111111111111111,
              "#46039f"
             ],
             [
              0.2222222222222222,
              "#7201a8"
             ],
             [
              0.3333333333333333,
              "#9c179e"
             ],
             [
              0.4444444444444444,
              "#bd3786"
             ],
             [
              0.5555555555555556,
              "#d8576b"
             ],
             [
              0.6666666666666666,
              "#ed7953"
             ],
             [
              0.7777777777777778,
              "#fb9f3a"
             ],
             [
              0.8888888888888888,
              "#fdca26"
             ],
             [
              1,
              "#f0f921"
             ]
            ],
            "type": "heatmap"
           }
          ],
          "histogram": [
           {
            "marker": {
             "pattern": {
              "fillmode": "overlay",
              "size": 10,
              "solidity": 0.2
             }
            },
            "type": "histogram"
           }
          ],
          "histogram2d": [
           {
            "colorbar": {
             "outlinewidth": 0,
             "ticks": ""
            },
            "colorscale": [
             [
              0,
              "#0d0887"
             ],
             [
              0.1111111111111111,
              "#46039f"
             ],
             [
              0.2222222222222222,
              "#7201a8"
             ],
             [
              0.3333333333333333,
              "#9c179e"
             ],
             [
              0.4444444444444444,
              "#bd3786"
             ],
             [
              0.5555555555555556,
              "#d8576b"
             ],
             [
              0.6666666666666666,
              "#ed7953"
             ],
             [
              0.7777777777777778,
              "#fb9f3a"
             ],
             [
              0.8888888888888888,
              "#fdca26"
             ],
             [
              1,
              "#f0f921"
             ]
            ],
            "type": "histogram2d"
           }
          ],
          "histogram2dcontour": [
           {
            "colorbar": {
             "outlinewidth": 0,
             "ticks": ""
            },
            "colorscale": [
             [
              0,
              "#0d0887"
             ],
             [
              0.1111111111111111,
              "#46039f"
             ],
             [
              0.2222222222222222,
              "#7201a8"
             ],
             [
              0.3333333333333333,
              "#9c179e"
             ],
             [
              0.4444444444444444,
              "#bd3786"
             ],
             [
              0.5555555555555556,
              "#d8576b"
             ],
             [
              0.6666666666666666,
              "#ed7953"
             ],
             [
              0.7777777777777778,
              "#fb9f3a"
             ],
             [
              0.8888888888888888,
              "#fdca26"
             ],
             [
              1,
              "#f0f921"
             ]
            ],
            "type": "histogram2dcontour"
           }
          ],
          "mesh3d": [
           {
            "colorbar": {
             "outlinewidth": 0,
             "ticks": ""
            },
            "type": "mesh3d"
           }
          ],
          "parcoords": [
           {
            "line": {
             "colorbar": {
              "outlinewidth": 0,
              "ticks": ""
             }
            },
            "type": "parcoords"
           }
          ],
          "pie": [
           {
            "automargin": true,
            "type": "pie"
           }
          ],
          "scatter": [
           {
            "fillpattern": {
             "fillmode": "overlay",
             "size": 10,
             "solidity": 0.2
            },
            "type": "scatter"
           }
          ],
          "scatter3d": [
           {
            "line": {
             "colorbar": {
              "outlinewidth": 0,
              "ticks": ""
             }
            },
            "marker": {
             "colorbar": {
              "outlinewidth": 0,
              "ticks": ""
             }
            },
            "type": "scatter3d"
           }
          ],
          "scattercarpet": [
           {
            "marker": {
             "colorbar": {
              "outlinewidth": 0,
              "ticks": ""
             }
            },
            "type": "scattercarpet"
           }
          ],
          "scattergeo": [
           {
            "marker": {
             "colorbar": {
              "outlinewidth": 0,
              "ticks": ""
             }
            },
            "type": "scattergeo"
           }
          ],
          "scattergl": [
           {
            "marker": {
             "colorbar": {
              "outlinewidth": 0,
              "ticks": ""
             }
            },
            "type": "scattergl"
           }
          ],
          "scattermap": [
           {
            "marker": {
             "colorbar": {
              "outlinewidth": 0,
              "ticks": ""
             }
            },
            "type": "scattermap"
           }
          ],
          "scattermapbox": [
           {
            "marker": {
             "colorbar": {
              "outlinewidth": 0,
              "ticks": ""
             }
            },
            "type": "scattermapbox"
           }
          ],
          "scatterpolar": [
           {
            "marker": {
             "colorbar": {
              "outlinewidth": 0,
              "ticks": ""
             }
            },
            "type": "scatterpolar"
           }
          ],
          "scatterpolargl": [
           {
            "marker": {
             "colorbar": {
              "outlinewidth": 0,
              "ticks": ""
             }
            },
            "type": "scatterpolargl"
           }
          ],
          "scatterternary": [
           {
            "marker": {
             "colorbar": {
              "outlinewidth": 0,
              "ticks": ""
             }
            },
            "type": "scatterternary"
           }
          ],
          "surface": [
           {
            "colorbar": {
             "outlinewidth": 0,
             "ticks": ""
            },
            "colorscale": [
             [
              0,
              "#0d0887"
             ],
             [
              0.1111111111111111,
              "#46039f"
             ],
             [
              0.2222222222222222,
              "#7201a8"
             ],
             [
              0.3333333333333333,
              "#9c179e"
             ],
             [
              0.4444444444444444,
              "#bd3786"
             ],
             [
              0.5555555555555556,
              "#d8576b"
             ],
             [
              0.6666666666666666,
              "#ed7953"
             ],
             [
              0.7777777777777778,
              "#fb9f3a"
             ],
             [
              0.8888888888888888,
              "#fdca26"
             ],
             [
              1,
              "#f0f921"
             ]
            ],
            "type": "surface"
           }
          ],
          "table": [
           {
            "cells": {
             "fill": {
              "color": "#EBF0F8"
             },
             "line": {
              "color": "white"
             }
            },
            "header": {
             "fill": {
              "color": "#C8D4E3"
             },
             "line": {
              "color": "white"
             }
            },
            "type": "table"
           }
          ]
         },
         "layout": {
          "annotationdefaults": {
           "arrowcolor": "#2a3f5f",
           "arrowhead": 0,
           "arrowwidth": 1
          },
          "autotypenumbers": "strict",
          "coloraxis": {
           "colorbar": {
            "outlinewidth": 0,
            "ticks": ""
           }
          },
          "colorscale": {
           "diverging": [
            [
             0,
             "#8e0152"
            ],
            [
             0.1,
             "#c51b7d"
            ],
            [
             0.2,
             "#de77ae"
            ],
            [
             0.3,
             "#f1b6da"
            ],
            [
             0.4,
             "#fde0ef"
            ],
            [
             0.5,
             "#f7f7f7"
            ],
            [
             0.6,
             "#e6f5d0"
            ],
            [
             0.7,
             "#b8e186"
            ],
            [
             0.8,
             "#7fbc41"
            ],
            [
             0.9,
             "#4d9221"
            ],
            [
             1,
             "#276419"
            ]
           ],
           "sequential": [
            [
             0,
             "#0d0887"
            ],
            [
             0.1111111111111111,
             "#46039f"
            ],
            [
             0.2222222222222222,
             "#7201a8"
            ],
            [
             0.3333333333333333,
             "#9c179e"
            ],
            [
             0.4444444444444444,
             "#bd3786"
            ],
            [
             0.5555555555555556,
             "#d8576b"
            ],
            [
             0.6666666666666666,
             "#ed7953"
            ],
            [
             0.7777777777777778,
             "#fb9f3a"
            ],
            [
             0.8888888888888888,
             "#fdca26"
            ],
            [
             1,
             "#f0f921"
            ]
           ],
           "sequentialminus": [
            [
             0,
             "#0d0887"
            ],
            [
             0.1111111111111111,
             "#46039f"
            ],
            [
             0.2222222222222222,
             "#7201a8"
            ],
            [
             0.3333333333333333,
             "#9c179e"
            ],
            [
             0.4444444444444444,
             "#bd3786"
            ],
            [
             0.5555555555555556,
             "#d8576b"
            ],
            [
             0.6666666666666666,
             "#ed7953"
            ],
            [
             0.7777777777777778,
             "#fb9f3a"
            ],
            [
             0.8888888888888888,
             "#fdca26"
            ],
            [
             1,
             "#f0f921"
            ]
           ]
          },
          "colorway": [
           "#636efa",
           "#EF553B",
           "#00cc96",
           "#ab63fa",
           "#FFA15A",
           "#19d3f3",
           "#FF6692",
           "#B6E880",
           "#FF97FF",
           "#FECB52"
          ],
          "font": {
           "color": "#2a3f5f"
          },
          "geo": {
           "bgcolor": "white",
           "lakecolor": "white",
           "landcolor": "#E5ECF6",
           "showlakes": true,
           "showland": true,
           "subunitcolor": "white"
          },
          "hoverlabel": {
           "align": "left"
          },
          "hovermode": "closest",
          "mapbox": {
           "style": "light"
          },
          "paper_bgcolor": "white",
          "plot_bgcolor": "#E5ECF6",
          "polar": {
           "angularaxis": {
            "gridcolor": "white",
            "linecolor": "white",
            "ticks": ""
           },
           "bgcolor": "#E5ECF6",
           "radialaxis": {
            "gridcolor": "white",
            "linecolor": "white",
            "ticks": ""
           }
          },
          "scene": {
           "xaxis": {
            "backgroundcolor": "#E5ECF6",
            "gridcolor": "white",
            "gridwidth": 2,
            "linecolor": "white",
            "showbackground": true,
            "ticks": "",
            "zerolinecolor": "white"
           },
           "yaxis": {
            "backgroundcolor": "#E5ECF6",
            "gridcolor": "white",
            "gridwidth": 2,
            "linecolor": "white",
            "showbackground": true,
            "ticks": "",
            "zerolinecolor": "white"
           },
           "zaxis": {
            "backgroundcolor": "#E5ECF6",
            "gridcolor": "white",
            "gridwidth": 2,
            "linecolor": "white",
            "showbackground": true,
            "ticks": "",
            "zerolinecolor": "white"
           }
          },
          "shapedefaults": {
           "line": {
            "color": "#2a3f5f"
           }
          },
          "ternary": {
           "aaxis": {
            "gridcolor": "white",
            "linecolor": "white",
            "ticks": ""
           },
           "baxis": {
            "gridcolor": "white",
            "linecolor": "white",
            "ticks": ""
           },
           "bgcolor": "#E5ECF6",
           "caxis": {
            "gridcolor": "white",
            "linecolor": "white",
            "ticks": ""
           }
          },
          "title": {
           "x": 0.05
          },
          "xaxis": {
           "automargin": true,
           "gridcolor": "white",
           "linecolor": "white",
           "ticks": "",
           "title": {
            "standoff": 15
           },
           "zerolinecolor": "white",
           "zerolinewidth": 2
          },
          "yaxis": {
           "automargin": true,
           "gridcolor": "white",
           "linecolor": "white",
           "ticks": "",
           "title": {
            "standoff": 15
           },
           "zerolinecolor": "white",
           "zerolinewidth": 2
          }
         }
        },
        "title": {
         "font": {
          "size": 12
         }
        },
        "xaxis": {
         "anchor": "y",
         "domain": [
          0,
          0.184
         ],
         "showgrid": false,
         "showticklabels": false,
         "title": {
          "text": ""
         },
         "zeroline": false
        },
        "xaxis2": {
         "anchor": "y2",
         "domain": [
          0.204,
          0.388
         ],
         "showgrid": false,
         "showticklabels": false,
         "title": {
          "text": ""
         },
         "zeroline": false
        },
        "xaxis3": {
         "anchor": "y3",
         "domain": [
          0.408,
          0.592
         ],
         "showgrid": false,
         "showticklabels": false,
         "title": {
          "text": ""
         },
         "zeroline": false
        },
        "xaxis4": {
         "anchor": "y4",
         "domain": [
          0.6120000000000001,
          0.796
         ],
         "showgrid": false,
         "showticklabels": false,
         "title": {
          "text": ""
         },
         "zeroline": false
        },
        "xaxis5": {
         "anchor": "y5",
         "domain": [
          0.816,
          1
         ],
         "showgrid": false,
         "showticklabels": false,
         "title": {
          "text": ""
         },
         "zeroline": false
        },
        "xaxis6": {
         "anchor": "y6",
         "domain": [
          0,
          1
         ]
        },
        "yaxis": {
         "anchor": "x",
         "domain": [
          0.525,
          1
         ],
         "showgrid": false,
         "showticklabels": false,
         "title": {
          "text": ""
         },
         "zeroline": false
        },
        "yaxis2": {
         "anchor": "x2",
         "domain": [
          0.525,
          1
         ],
         "showgrid": false,
         "showticklabels": false,
         "title": {
          "text": ""
         },
         "zeroline": false
        },
        "yaxis3": {
         "anchor": "x3",
         "domain": [
          0.525,
          1
         ],
         "showgrid": false,
         "showticklabels": false,
         "title": {
          "text": ""
         },
         "zeroline": false
        },
        "yaxis4": {
         "anchor": "x4",
         "domain": [
          0.525,
          1
         ],
         "showgrid": false,
         "showticklabels": false,
         "title": {
          "text": ""
         },
         "zeroline": false
        },
        "yaxis5": {
         "anchor": "x5",
         "domain": [
          0.525,
          1
         ],
         "showgrid": false,
         "showticklabels": false,
         "title": {
          "text": ""
         },
         "zeroline": false
        },
        "yaxis6": {
         "anchor": "x6",
         "domain": [
          0,
          0.475
         ],
         "title": {
          "text": "NDMI"
         }
        }
       }
      }
     },
     "metadata": {},
     "output_type": "display_data"
    }
   ],
   "source": [
    "import numpy as np\n",
    "import plotly.graph_objects as go\n",
    "from plotly.subplots import make_subplots\n",
    "import plotly.express as px\n",
    "\n",
    "# --- segment changes ---\n",
    "segment_changes = np.concatenate(\n",
    "    [np.array([0]), np.where(labels_arr[:-1] != labels_arr[1:])[0] + 1]\n",
    ")\n",
    "\n",
    "# --- build subplot specs ---\n",
    "n_chips = len(segment_changes)\n",
    "specs = [[{\"type\": \"xy\"} for _ in range(n_chips)]] + [\n",
    "    [{\"colspan\": n_chips}, *[None] * (n_chips - 1)]\n",
    "]\n",
    "\n",
    "fig = make_subplots(\n",
    "    rows=2,\n",
    "    cols=n_chips,\n",
    "    specs=specs,\n",
    "    vertical_spacing=0.05,  # Reduced from 0.15\n",
    "    horizontal_spacing=0.02,  # Added to reduce space between columns\n",
    "    subplot_titles=[\n",
    "        f\"label: {labels_arr[i]}<br>date: {py_timestamps[i].strftime('%Y-%m-%d')}\"\n",
    "        for i in segment_changes\n",
    "    ],\n",
    ")\n",
    "\n",
    "# --- Row 1: image chips ---\n",
    "for j, i in enumerate(segment_changes):\n",
    "    rgb = stacked_data[i + 1, [2, 1, 0], :, :]  # RGB\n",
    "    image = np.rollaxis(rgb, 0, 3)\n",
    "    image = np.clip(image / 2000, 0, 1)\n",
    "    fig.add_trace(go.Image(z=(image * 255).astype(np.uint8)), row=1, col=j + 1)\n",
    "\n",
    "# --- Row 2: NDMI timeline (full width) ---\n",
    "fig.add_trace(\n",
    "    go.Scatter(x=py_timestamps, y=ndmi, mode=\"lines\", name=\"NDMI\"), row=2, col=1\n",
    ")\n",
    "\n",
    "# --- Color map for labels ---\n",
    "unique_labels = fully_segmented[\"label\"].unique()\n",
    "palette = px.colors.qualitative.T10\n",
    "color_map = {lbl: palette[i % len(palette)] for i, lbl in enumerate(unique_labels)}\n",
    "\n",
    "# --- Rectangles for segments ---\n",
    "for _, row in fully_segmented.to_pandas().iterrows():\n",
    "    fig.add_vrect(\n",
    "        x0=row[\"start\"],\n",
    "        x1=row[\"start_next_label\"],\n",
    "        fillcolor=color_map[row[\"label\"]],\n",
    "        opacity=0.2,\n",
    "        line_width=0,\n",
    "        layer=\"below\",\n",
    "        row=2,\n",
    "        col=1,\n",
    "    )\n",
    "\n",
    "# --- Layout tweaks ---\n",
    "fig.update_layout(\n",
    "    height=800,\n",
    "    showlegend=False,\n",
    "    margin=dict(l=20, r=20, t=60, b=20),  # Reduced margins\n",
    "    title_font_size=12,  # Smaller title font\n",
    ")\n",
    "\n",
    "# Remove axis labels only from image subplots (row 1)\n",
    "for j in range(n_chips):\n",
    "    fig.update_xaxes(\n",
    "        showticklabels=False,\n",
    "        title_text=\"\",\n",
    "        showgrid=False,\n",
    "        zeroline=False,\n",
    "        row=1,\n",
    "        col=j + 1,\n",
    "    )\n",
    "    fig.update_yaxes(\n",
    "        showticklabels=False,\n",
    "        title_text=\"\",\n",
    "        showgrid=False,\n",
    "        zeroline=False,\n",
    "        row=1,\n",
    "        col=j + 1,\n",
    "    )\n",
    "\n",
    "# Keep axis labels for the timeline plot (row 2)\n",
    "fig.update_yaxes(title_text=\"NDMI\", row=2, col=1)\n",
    "\n",
    "# Make subplot titles smaller\n",
    "fig.update_annotations(font_size=10)\n",
    "\n",
    "fig.write_image(\"timeline.png\", scale=2, height=350)\n",
    "fig.show()"
   ]
  }
 ],
 "metadata": {
  "kernelspec": {
   "display_name": "disfor",
   "language": "python",
   "name": "python3"
  },
  "language_info": {
   "codemirror_mode": {
    "name": "ipython",
    "version": 3
   },
   "file_extension": ".py",
   "mimetype": "text/x-python",
   "name": "python",
   "nbconvert_exporter": "python",
   "pygments_lexer": "ipython3",
   "version": "3.12.3"
  }
 },
 "nbformat": 4,
 "nbformat_minor": 5
}
